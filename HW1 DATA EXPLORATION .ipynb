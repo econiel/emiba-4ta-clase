{
 "cells": [
  {
   "cell_type": "markdown",
   "id": "9331a06e",
   "metadata": {},
   "source": [
    "# HOMEWORK"
   ]
  },
  {
   "cell_type": "markdown",
   "id": "bdaf5507",
   "metadata": {},
   "source": [
    "# LISTAS"
   ]
  },
  {
   "cell_type": "code",
   "execution_count": null,
   "id": "7d80c0be",
   "metadata": {},
   "outputs": [],
   "source": [
    "#Crear una lista - Sirve para almacenar varios elementos en una sola variable"
   ]
  },
  {
   "cell_type": "code",
   "execution_count": 66,
   "id": "218c6cd0",
   "metadata": {},
   "outputs": [],
   "source": [
    "list = [\"pollo\", \"carne\", 2, 5, (1,2,3,4,5), \"pollo\", \"pollo\", \"carne\"]"
   ]
  },
  {
   "cell_type": "code",
   "execution_count": 67,
   "id": "422d1307",
   "metadata": {},
   "outputs": [
    {
     "data": {
      "text/plain": [
       "['pollo', 'carne', 2, 5, (1, 2, 3, 4, 5), 'pollo', 'pollo', 'carne']"
      ]
     },
     "execution_count": 67,
     "metadata": {},
     "output_type": "execute_result"
    }
   ],
   "source": [
    "list"
   ]
  },
  {
   "cell_type": "code",
   "execution_count": null,
   "id": "7429b5f7",
   "metadata": {},
   "outputs": [],
   "source": [
    "#Se pueden indexar los elementos de una lista para facilitar el llamado."
   ]
  },
  {
   "cell_type": "code",
   "execution_count": 68,
   "id": "439e38d8",
   "metadata": {},
   "outputs": [
    {
     "data": {
      "text/plain": [
       "(1, 2, 3, 4, 5)"
      ]
     },
     "execution_count": 68,
     "metadata": {},
     "output_type": "execute_result"
    }
   ],
   "source": [
    "list[4]"
   ]
  },
  {
   "cell_type": "markdown",
   "id": "d8bb2a0b",
   "metadata": {},
   "source": [
    "# EXERCISE"
   ]
  },
  {
   "cell_type": "code",
   "execution_count": null,
   "id": "e0b712bf",
   "metadata": {},
   "outputs": [],
   "source": [
    "#AGREGA Y RETIRA UN NUEVO ELEMENTO A LA LISTA"
   ]
  },
  {
   "cell_type": "code",
   "execution_count": 69,
   "id": "2d88efea",
   "metadata": {},
   "outputs": [],
   "source": [
    "list.append(\"pescado\") #el comando append sirve para agregar un elemnto "
   ]
  },
  {
   "cell_type": "code",
   "execution_count": 70,
   "id": "eb7617f5",
   "metadata": {},
   "outputs": [
    {
     "data": {
      "text/plain": [
       "['pollo', 'carne', 2, 5, (1, 2, 3, 4, 5), 'pollo', 'pollo', 'carne', 'pescado']"
      ]
     },
     "execution_count": 70,
     "metadata": {},
     "output_type": "execute_result"
    }
   ],
   "source": [
    "list"
   ]
  },
  {
   "cell_type": "code",
   "execution_count": 71,
   "id": "53c57456",
   "metadata": {},
   "outputs": [],
   "source": [
    "list.remove(2) #el comando remove sirve para eliminar un elemento (ya no esta el número 2)"
   ]
  },
  {
   "cell_type": "code",
   "execution_count": 72,
   "id": "082005d4",
   "metadata": {},
   "outputs": [
    {
     "data": {
      "text/plain": [
       "['pollo', 'carne', 5, (1, 2, 3, 4, 5), 'pollo', 'pollo', 'carne', 'pescado']"
      ]
     },
     "execution_count": 72,
     "metadata": {},
     "output_type": "execute_result"
    }
   ],
   "source": [
    "list"
   ]
  },
  {
   "cell_type": "code",
   "execution_count": 73,
   "id": "1c603470",
   "metadata": {},
   "outputs": [
    {
     "data": {
      "text/plain": [
       "3"
      ]
     },
     "execution_count": 73,
     "metadata": {},
     "output_type": "execute_result"
    }
   ],
   "source": [
    "list.count(\"pollo\") #el comando count sirve para contar un elemnto de una lista "
   ]
  },
  {
   "cell_type": "markdown",
   "id": "371df443",
   "metadata": {},
   "source": [
    "# DICTIONARIES"
   ]
  },
  {
   "cell_type": "code",
   "execution_count": null,
   "id": "7bd84159",
   "metadata": {},
   "outputs": [],
   "source": [
    "#Se utilizan para almacenar valores de datos en Key-Value pairs"
   ]
  },
  {
   "cell_type": "code",
   "execution_count": 74,
   "id": "e2ad6298",
   "metadata": {},
   "outputs": [],
   "source": [
    "dictionary1={'animales':['gato', 'perro', 'loro'],'factura':[34.50, 20.8, 30.7], 'precio':[10, 20, 30], 'nivel':[1,2,3,4,5]}"
   ]
  },
  {
   "cell_type": "code",
   "execution_count": 75,
   "id": "29626b3d",
   "metadata": {},
   "outputs": [
    {
     "data": {
      "text/plain": [
       "{'animales': ['gato', 'perro', 'loro'],\n",
       " 'factura': [34.5, 20.8, 30.7],\n",
       " 'precio': [10, 20, 30],\n",
       " 'nivel': [1, 2, 3, 4, 5]}"
      ]
     },
     "execution_count": 75,
     "metadata": {},
     "output_type": "execute_result"
    }
   ],
   "source": [
    "dictionary1"
   ]
  },
  {
   "cell_type": "code",
   "execution_count": 78,
   "id": "88e9748f",
   "metadata": {},
   "outputs": [
    {
     "data": {
      "text/plain": [
       "['gato', 'perro', 'loro']"
      ]
     },
     "execution_count": 78,
     "metadata": {},
     "output_type": "execute_result"
    }
   ],
   "source": [
    "dictionary1['animales'] #detallar los Keys me permite llamar a los valores de dicha llave"
   ]
  },
  {
   "cell_type": "code",
   "execution_count": 79,
   "id": "0795d24e",
   "metadata": {},
   "outputs": [
    {
     "data": {
      "text/plain": [
       "5"
      ]
     },
     "execution_count": 79,
     "metadata": {},
     "output_type": "execute_result"
    }
   ],
   "source": [
    "len(dictionary1) #el comando len nos brinda el tamaño de nuestro diccionario"
   ]
  },
  {
   "cell_type": "markdown",
   "id": "c9c17e11",
   "metadata": {},
   "source": [
    "# EXERCISE"
   ]
  },
  {
   "cell_type": "code",
   "execution_count": null,
   "id": "96a35bb3",
   "metadata": {},
   "outputs": [],
   "source": [
    "CREA UNA NUEVA KEY - VALUE"
   ]
  },
  {
   "cell_type": "code",
   "execution_count": 76,
   "id": "ea39615b",
   "metadata": {},
   "outputs": [],
   "source": [
    "dictionary1.update({'categoria':['bueno', 'malo']}) #El comando update sirve para agregar Key-Value en un diccionario"
   ]
  },
  {
   "cell_type": "code",
   "execution_count": 77,
   "id": "a16b55ad",
   "metadata": {},
   "outputs": [
    {
     "data": {
      "text/plain": [
       "{'animales': ['gato', 'perro', 'loro'],\n",
       " 'factura': [34.5, 20.8, 30.7],\n",
       " 'precio': [10, 20, 30],\n",
       " 'nivel': [1, 2, 3, 4, 5],\n",
       " 'categoria': ['bueno', 'malo']}"
      ]
     },
     "execution_count": 77,
     "metadata": {},
     "output_type": "execute_result"
    }
   ],
   "source": [
    "dictionary1"
   ]
  },
  {
   "cell_type": "code",
   "execution_count": 80,
   "id": "1a96a3a8",
   "metadata": {},
   "outputs": [
    {
     "data": {
      "text/plain": [
       "['bueno', 'malo']"
      ]
     },
     "execution_count": 80,
     "metadata": {},
     "output_type": "execute_result"
    }
   ],
   "source": [
    "dictionary1.pop('categoria') #El comando pop sirve para remover Key-Value en un diccionario"
   ]
  },
  {
   "cell_type": "markdown",
   "id": "29e84be6",
   "metadata": {},
   "source": [
    "# If- Else Statements"
   ]
  },
  {
   "cell_type": "code",
   "execution_count": 85,
   "id": "76feab16",
   "metadata": {},
   "outputs": [],
   "source": [
    "a = 10"
   ]
  },
  {
   "cell_type": "code",
   "execution_count": 86,
   "id": "bf39bc91",
   "metadata": {},
   "outputs": [
    {
     "name": "stdout",
     "output_type": "stream",
     "text": [
      "The variable a is equal to 10\n"
     ]
    }
   ],
   "source": [
    "if a == 10:\n",
    "    print('The variable a is equal to 10')\n",
    "else:\n",
    "    print('The variable a is different than 10')"
   ]
  },
  {
   "cell_type": "markdown",
   "id": "34291ebc",
   "metadata": {},
   "source": [
    "# EXERCISE"
   ]
  },
  {
   "cell_type": "code",
   "execution_count": null,
   "id": "4e2dd989",
   "metadata": {},
   "outputs": [],
   "source": [
    "#Evaluate wheter your previous list contains more than 3 items"
   ]
  },
  {
   "cell_type": "code",
   "execution_count": 87,
   "id": "1a6ad1f9",
   "metadata": {},
   "outputs": [
    {
     "name": "stdout",
     "output_type": "stream",
     "text": [
      "yes\n"
     ]
    }
   ],
   "source": [
    "if len(dictionary1)>3:\n",
    "    print('yes')\n",
    "else:\n",
    "    print('no')"
   ]
  },
  {
   "cell_type": "markdown",
   "id": "f131b1e1",
   "metadata": {},
   "source": [
    "# FOR LOOPS"
   ]
  },
  {
   "cell_type": "markdown",
   "id": "a8b32438",
   "metadata": {},
   "source": [
    "# EXERCISE"
   ]
  },
  {
   "cell_type": "code",
   "execution_count": null,
   "id": "e23a1fc7",
   "metadata": {},
   "outputs": [],
   "source": [
    "#create a list with numbers in it. my_list = [0,1,2,3]"
   ]
  },
  {
   "cell_type": "code",
   "execution_count": 88,
   "id": "bce3c907",
   "metadata": {},
   "outputs": [],
   "source": [
    "new_list = [0,1,2,3]"
   ]
  },
  {
   "cell_type": "code",
   "execution_count": null,
   "id": "bd47f0dd",
   "metadata": {},
   "outputs": [],
   "source": [
    "#Iterate over it with a for loop, subtract 2 to every number, and print every number at every iteration"
   ]
  },
  {
   "cell_type": "code",
   "execution_count": 89,
   "id": "dc639866",
   "metadata": {},
   "outputs": [
    {
     "name": "stdout",
     "output_type": "stream",
     "text": [
      "-2\n",
      "-1\n",
      "0\n",
      "1\n"
     ]
    }
   ],
   "source": [
    "for el in new_list:\n",
    "    print(el-2)"
   ]
  },
  {
   "cell_type": "code",
   "execution_count": 90,
   "id": "30298e27",
   "metadata": {},
   "outputs": [],
   "source": [
    "new_list1=[4,5,6,7]"
   ]
  },
  {
   "cell_type": "code",
   "execution_count": 91,
   "id": "abc44860",
   "metadata": {},
   "outputs": [
    {
     "name": "stdout",
     "output_type": "stream",
     "text": [
      "2\n",
      "3\n",
      "4\n",
      "5\n"
     ]
    }
   ],
   "source": [
    "for el in new_list1:\n",
    "    print(el-2)"
   ]
  },
  {
   "cell_type": "markdown",
   "id": "586b745c",
   "metadata": {},
   "source": [
    "# While Loops"
   ]
  },
  {
   "cell_type": "code",
   "execution_count": 92,
   "id": "176347b2",
   "metadata": {},
   "outputs": [],
   "source": [
    "aa = 5"
   ]
  },
  {
   "cell_type": "code",
   "execution_count": 93,
   "id": "85bea797",
   "metadata": {},
   "outputs": [
    {
     "name": "stdout",
     "output_type": "stream",
     "text": [
      "5\n",
      "4\n",
      "3\n",
      "2\n",
      "1\n",
      " The new value of aa is 0 as it should be\n"
     ]
    }
   ],
   "source": [
    "aa = 5\n",
    "while aa !=0:\n",
    "    print(aa)\n",
    "    aa -= 1\n",
    "print(f' The new value of aa is {aa} as it should be')"
   ]
  },
  {
   "cell_type": "markdown",
   "id": "0d3d3b94",
   "metadata": {},
   "source": [
    "# Introduction to functions"
   ]
  },
  {
   "cell_type": "code",
   "execution_count": 94,
   "id": "6fbc5d34",
   "metadata": {},
   "outputs": [],
   "source": [
    "def mi_funcion(arg1, arg2):   #def  + name_function(parámetros de la función):\n",
    "    print(arg1)               #lo que quiero hacer    \n",
    "    print(arg2)               #return output\n",
    "    return print"
   ]
  },
  {
   "cell_type": "code",
   "execution_count": 95,
   "id": "af863548",
   "metadata": {},
   "outputs": [
    {
     "name": "stdout",
     "output_type": "stream",
     "text": [
      "2\n",
      "3\n"
     ]
    },
    {
     "data": {
      "text/plain": [
       "<function print>"
      ]
     },
     "execution_count": 95,
     "metadata": {},
     "output_type": "execute_result"
    }
   ],
   "source": [
    "mi_funcion(2,3)"
   ]
  },
  {
   "cell_type": "code",
   "execution_count": 96,
   "id": "50e0b5bf",
   "metadata": {},
   "outputs": [],
   "source": [
    "def multiply_two_numbers(num1, num2):\n",
    "    result = num1 * num2\n",
    "    \n",
    "    return result"
   ]
  },
  {
   "cell_type": "code",
   "execution_count": 98,
   "id": "10967196",
   "metadata": {},
   "outputs": [],
   "source": [
    "new_num = multiply_two_numbers(3,4)"
   ]
  },
  {
   "cell_type": "code",
   "execution_count": 99,
   "id": "f377f68d",
   "metadata": {},
   "outputs": [
    {
     "data": {
      "text/plain": [
       "12"
      ]
     },
     "execution_count": 99,
     "metadata": {},
     "output_type": "execute_result"
    }
   ],
   "source": [
    "new_num"
   ]
  },
  {
   "cell_type": "markdown",
   "id": "65a64578",
   "metadata": {},
   "source": [
    "# EXERCISE"
   ]
  },
  {
   "cell_type": "code",
   "execution_count": null,
   "id": "a03f9b71",
   "metadata": {},
   "outputs": [],
   "source": [
    "#CREAR UNA FUNCIÓN QUE ELEVE AL CUADRO CUALQUIER NÚMERO"
   ]
  },
  {
   "cell_type": "code",
   "execution_count": 100,
   "id": "aee8c062",
   "metadata": {},
   "outputs": [],
   "source": [
    "def fun_square(num1):\n",
    "    result=num1**2\n",
    "    return result"
   ]
  },
  {
   "cell_type": "code",
   "execution_count": 101,
   "id": "45f443c7",
   "metadata": {},
   "outputs": [
    {
     "data": {
      "text/plain": [
       "9"
      ]
     },
     "execution_count": 101,
     "metadata": {},
     "output_type": "execute_result"
    }
   ],
   "source": [
    "fun_square(3)"
   ]
  },
  {
   "cell_type": "code",
   "execution_count": null,
   "id": "921a9541",
   "metadata": {},
   "outputs": [],
   "source": [
    "#Crear un función en donde si el 1er elemento es > a 3 devuelva la suma, si es < a 3 devuelva la resta y si es = a 3 devuelva el producto."
   ]
  },
  {
   "cell_type": "code",
   "execution_count": 102,
   "id": "399b4d89",
   "metadata": {},
   "outputs": [],
   "source": [
    "#Function to combine two numerical variables \n",
    "\n",
    "def funcion(num1, num2):\n",
    "    if num1>3:\n",
    "        result=num1 + num2\n",
    "    if num1<3: \n",
    "        result=num1 - num2\n",
    "    if num1==3:\n",
    "        result=num1*num2\n",
    "        \n",
    "    return result"
   ]
  },
  {
   "cell_type": "code",
   "execution_count": 103,
   "id": "4dfd0410",
   "metadata": {},
   "outputs": [
    {
     "data": {
      "text/plain": [
       "12"
      ]
     },
     "execution_count": 103,
     "metadata": {},
     "output_type": "execute_result"
    }
   ],
   "source": [
    "funcion(3,4)"
   ]
  },
  {
   "cell_type": "code",
   "execution_count": 104,
   "id": "2b170ab7",
   "metadata": {},
   "outputs": [
    {
     "data": {
      "text/plain": [
       "11"
      ]
     },
     "execution_count": 104,
     "metadata": {},
     "output_type": "execute_result"
    }
   ],
   "source": [
    "funcion(7,4)"
   ]
  },
  {
   "cell_type": "markdown",
   "id": "a8716dfb",
   "metadata": {},
   "source": [
    "# INTRODUCCION A PANDAS"
   ]
  },
  {
   "cell_type": "code",
   "execution_count": 1,
   "id": "27d73de4",
   "metadata": {},
   "outputs": [],
   "source": [
    "import pandas as pd"
   ]
  },
  {
   "cell_type": "code",
   "execution_count": 2,
   "id": "4dcbcfef",
   "metadata": {},
   "outputs": [],
   "source": [
    "df=pd.read_csv(\"police_deaths_USA_v6.csv\")"
   ]
  },
  {
   "cell_type": "code",
   "execution_count": 3,
   "id": "5275401a",
   "metadata": {},
   "outputs": [
    {
     "data": {
      "text/html": [
       "<div>\n",
       "<style scoped>\n",
       "    .dataframe tbody tr th:only-of-type {\n",
       "        vertical-align: middle;\n",
       "    }\n",
       "\n",
       "    .dataframe tbody tr th {\n",
       "        vertical-align: top;\n",
       "    }\n",
       "\n",
       "    .dataframe thead th {\n",
       "        text-align: right;\n",
       "    }\n",
       "</style>\n",
       "<table border=\"1\" class=\"dataframe\">\n",
       "  <thead>\n",
       "    <tr style=\"text-align: right;\">\n",
       "      <th></th>\n",
       "      <th>Rank</th>\n",
       "      <th>Name</th>\n",
       "      <th>Age</th>\n",
       "      <th>End_Of_Watch</th>\n",
       "      <th>Day_Of_Week</th>\n",
       "      <th>Cause</th>\n",
       "      <th>Department</th>\n",
       "      <th>State</th>\n",
       "      <th>Tour</th>\n",
       "      <th>Badge</th>\n",
       "      <th>Weapon</th>\n",
       "      <th>Offender</th>\n",
       "      <th>Summary</th>\n",
       "    </tr>\n",
       "  </thead>\n",
       "  <tbody>\n",
       "    <tr>\n",
       "      <th>0</th>\n",
       "      <td>Constable</td>\n",
       "      <td>Darius Quimby</td>\n",
       "      <td>NaN</td>\n",
       "      <td>1791-01-03</td>\n",
       "      <td>Monday</td>\n",
       "      <td>Stabbed</td>\n",
       "      <td>Albany County Constable's Office, New York</td>\n",
       "      <td>New York</td>\n",
       "      <td>NaN</td>\n",
       "      <td>NaN</td>\n",
       "      <td>Edged weapon; Knife</td>\n",
       "      <td>Executed in 1791</td>\n",
       "      <td>Constable Darius Quimby was stabbed to death w...</td>\n",
       "    </tr>\n",
       "    <tr>\n",
       "      <th>1</th>\n",
       "      <td>Sheriff</td>\n",
       "      <td>Cornelius Hogeboom</td>\n",
       "      <td>53.0</td>\n",
       "      <td>1791-10-22</td>\n",
       "      <td>Saturday</td>\n",
       "      <td>Gunfire</td>\n",
       "      <td>Columbia County Sheriff's Office, New York</td>\n",
       "      <td>New York</td>\n",
       "      <td>2 years</td>\n",
       "      <td>NaN</td>\n",
       "      <td>Gun; Unknown type</td>\n",
       "      <td>Acquitted</td>\n",
       "      <td>Sheriff Cornelius Hogeboom was shot and killed...</td>\n",
       "    </tr>\n",
       "    <tr>\n",
       "      <th>2</th>\n",
       "      <td>Deputy Sheriff</td>\n",
       "      <td>Isaac Smith</td>\n",
       "      <td>NaN</td>\n",
       "      <td>1792-05-17</td>\n",
       "      <td>Thursday</td>\n",
       "      <td>Gunfire</td>\n",
       "      <td>Westchester County Sheriff's Department, New York</td>\n",
       "      <td>New York</td>\n",
       "      <td>NaN</td>\n",
       "      <td>NaN</td>\n",
       "      <td>Handgun</td>\n",
       "      <td>Executed in 1793</td>\n",
       "      <td>Deputy Sheriff Isaac Smith was shot and killed...</td>\n",
       "    </tr>\n",
       "    <tr>\n",
       "      <th>3</th>\n",
       "      <td>Marshal</td>\n",
       "      <td>Robert Forsyth</td>\n",
       "      <td>40.0</td>\n",
       "      <td>1794-01-11</td>\n",
       "      <td>Saturday</td>\n",
       "      <td>Gunfire</td>\n",
       "      <td>United States Department of Justice - United S...</td>\n",
       "      <td>United States</td>\n",
       "      <td>4 years, 4 months</td>\n",
       "      <td>4</td>\n",
       "      <td>Handgun; Pistol</td>\n",
       "      <td>Escaped</td>\n",
       "      <td>Marshal Robert Forsyth, believed to be one of ...</td>\n",
       "    </tr>\n",
       "    <tr>\n",
       "      <th>4</th>\n",
       "      <td>Deputy Sheriff</td>\n",
       "      <td>Robert Berwick</td>\n",
       "      <td>NaN</td>\n",
       "      <td>1797-06-29</td>\n",
       "      <td>Thursday</td>\n",
       "      <td>Gunfire</td>\n",
       "      <td>New York County Sheriff's Office, New York</td>\n",
       "      <td>New York</td>\n",
       "      <td>NaN</td>\n",
       "      <td>NaN</td>\n",
       "      <td>Handgun</td>\n",
       "      <td>Executed in 1797</td>\n",
       "      <td>Deputy Sheriff Robert Berwick was shot and kil...</td>\n",
       "    </tr>\n",
       "  </tbody>\n",
       "</table>\n",
       "</div>"
      ],
      "text/plain": [
       "             Rank                Name   Age End_Of_Watch Day_Of_Week    Cause  \\\n",
       "0       Constable       Darius Quimby   NaN   1791-01-03      Monday  Stabbed   \n",
       "1         Sheriff  Cornelius Hogeboom  53.0   1791-10-22    Saturday  Gunfire   \n",
       "2  Deputy Sheriff         Isaac Smith   NaN   1792-05-17    Thursday  Gunfire   \n",
       "3         Marshal      Robert Forsyth  40.0   1794-01-11    Saturday  Gunfire   \n",
       "4  Deputy Sheriff      Robert Berwick   NaN   1797-06-29    Thursday  Gunfire   \n",
       "\n",
       "                                          Department          State  \\\n",
       "0         Albany County Constable's Office, New York       New York   \n",
       "1         Columbia County Sheriff's Office, New York       New York   \n",
       "2  Westchester County Sheriff's Department, New York       New York   \n",
       "3  United States Department of Justice - United S...  United States   \n",
       "4         New York County Sheriff's Office, New York       New York   \n",
       "\n",
       "                Tour Badge               Weapon          Offender  \\\n",
       "0                NaN   NaN  Edged weapon; Knife  Executed in 1791   \n",
       "1            2 years   NaN    Gun; Unknown type         Acquitted   \n",
       "2                NaN   NaN              Handgun  Executed in 1793   \n",
       "3  4 years, 4 months     4      Handgun; Pistol           Escaped   \n",
       "4                NaN   NaN              Handgun  Executed in 1797   \n",
       "\n",
       "                                             Summary  \n",
       "0  Constable Darius Quimby was stabbed to death w...  \n",
       "1  Sheriff Cornelius Hogeboom was shot and killed...  \n",
       "2  Deputy Sheriff Isaac Smith was shot and killed...  \n",
       "3  Marshal Robert Forsyth, believed to be one of ...  \n",
       "4  Deputy Sheriff Robert Berwick was shot and kil...  "
      ]
     },
     "execution_count": 3,
     "metadata": {},
     "output_type": "execute_result"
    }
   ],
   "source": [
    "df.head()"
   ]
  },
  {
   "cell_type": "code",
   "execution_count": 4,
   "id": "b7374404",
   "metadata": {},
   "outputs": [
    {
     "name": "stdout",
     "output_type": "stream",
     "text": [
      "<class 'pandas.core.frame.DataFrame'>\n",
      "RangeIndex: 25623 entries, 0 to 25622\n",
      "Data columns (total 13 columns):\n",
      " #   Column        Non-Null Count  Dtype  \n",
      "---  ------        --------------  -----  \n",
      " 0   Rank          25623 non-null  object \n",
      " 1   Name          25623 non-null  object \n",
      " 2   Age           22946 non-null  float64\n",
      " 3   End_Of_Watch  25623 non-null  object \n",
      " 4   Day_Of_Week   25623 non-null  object \n",
      " 5   Cause         25622 non-null  object \n",
      " 6   Department    25623 non-null  object \n",
      " 7   State         25623 non-null  object \n",
      " 8   Tour          17417 non-null  object \n",
      " 9   Badge         7482 non-null   object \n",
      " 10  Weapon        16263 non-null  object \n",
      " 11  Offender      13803 non-null  object \n",
      " 12  Summary       25623 non-null  object \n",
      "dtypes: float64(1), object(12)\n",
      "memory usage: 2.5+ MB\n"
     ]
    }
   ],
   "source": [
    "df.info()"
   ]
  },
  {
   "cell_type": "code",
   "execution_count": 5,
   "id": "79b87d93",
   "metadata": {},
   "outputs": [
    {
     "data": {
      "text/html": [
       "<div>\n",
       "<style scoped>\n",
       "    .dataframe tbody tr th:only-of-type {\n",
       "        vertical-align: middle;\n",
       "    }\n",
       "\n",
       "    .dataframe tbody tr th {\n",
       "        vertical-align: top;\n",
       "    }\n",
       "\n",
       "    .dataframe thead th {\n",
       "        text-align: right;\n",
       "    }\n",
       "</style>\n",
       "<table border=\"1\" class=\"dataframe\">\n",
       "  <thead>\n",
       "    <tr style=\"text-align: right;\">\n",
       "      <th></th>\n",
       "      <th>Age</th>\n",
       "    </tr>\n",
       "  </thead>\n",
       "  <tbody>\n",
       "    <tr>\n",
       "      <th>count</th>\n",
       "      <td>22946.000000</td>\n",
       "    </tr>\n",
       "    <tr>\n",
       "      <th>mean</th>\n",
       "      <td>40.289419</td>\n",
       "    </tr>\n",
       "    <tr>\n",
       "      <th>std</th>\n",
       "      <td>15.799729</td>\n",
       "    </tr>\n",
       "    <tr>\n",
       "      <th>min</th>\n",
       "      <td>17.000000</td>\n",
       "    </tr>\n",
       "    <tr>\n",
       "      <th>25%</th>\n",
       "      <td>31.000000</td>\n",
       "    </tr>\n",
       "    <tr>\n",
       "      <th>50%</th>\n",
       "      <td>39.000000</td>\n",
       "    </tr>\n",
       "    <tr>\n",
       "      <th>75%</th>\n",
       "      <td>48.000000</td>\n",
       "    </tr>\n",
       "    <tr>\n",
       "      <th>max</th>\n",
       "      <td>1661.000000</td>\n",
       "    </tr>\n",
       "  </tbody>\n",
       "</table>\n",
       "</div>"
      ],
      "text/plain": [
       "                Age\n",
       "count  22946.000000\n",
       "mean      40.289419\n",
       "std       15.799729\n",
       "min       17.000000\n",
       "25%       31.000000\n",
       "50%       39.000000\n",
       "75%       48.000000\n",
       "max     1661.000000"
      ]
     },
     "execution_count": 5,
     "metadata": {},
     "output_type": "execute_result"
    }
   ],
   "source": [
    "df.describe()"
   ]
  },
  {
   "cell_type": "code",
   "execution_count": 6,
   "id": "c8150f4e",
   "metadata": {},
   "outputs": [
    {
     "data": {
      "text/plain": [
       "Rank                0\n",
       "Name                0\n",
       "Age              2677\n",
       "End_Of_Watch        0\n",
       "Day_Of_Week         0\n",
       "Cause               1\n",
       "Department          0\n",
       "State               0\n",
       "Tour             8206\n",
       "Badge           18141\n",
       "Weapon           9360\n",
       "Offender        11820\n",
       "Summary             0\n",
       "dtype: int64"
      ]
     },
     "execution_count": 6,
     "metadata": {},
     "output_type": "execute_result"
    }
   ],
   "source": [
    "df.isna().sum()  #suma de valores nulos tengo por columna"
   ]
  },
  {
   "cell_type": "code",
   "execution_count": 7,
   "id": "d5437fc8",
   "metadata": {},
   "outputs": [
    {
     "data": {
      "text/plain": [
       "Index(['Rank', 'Name', 'Age', 'End_Of_Watch', 'Day_Of_Week', 'Cause',\n",
       "       'Department', 'State', 'Tour', 'Badge', 'Weapon', 'Offender',\n",
       "       'Summary'],\n",
       "      dtype='object')"
      ]
     },
     "execution_count": 7,
     "metadata": {},
     "output_type": "execute_result"
    }
   ],
   "source": [
    "df.columns"
   ]
  },
  {
   "cell_type": "code",
   "execution_count": 8,
   "id": "f82eb43f",
   "metadata": {},
   "outputs": [
    {
     "data": {
      "text/plain": [
       "0              New York\n",
       "1              New York\n",
       "2              New York\n",
       "3         United States\n",
       "4              New York\n",
       "              ...      \n",
       "25618        Washington\n",
       "25619    North Carolina\n",
       "25620         Wisconsin\n",
       "25621    North Carolina\n",
       "25622    North Carolina\n",
       "Name: State, Length: 25623, dtype: object"
      ]
     },
     "execution_count": 8,
     "metadata": {},
     "output_type": "execute_result"
    }
   ],
   "source": [
    "df['State']  #llamar a una columna en específico\""
   ]
  },
  {
   "cell_type": "markdown",
   "id": "2a070198",
   "metadata": {},
   "source": [
    "# EXERCISE"
   ]
  },
  {
   "cell_type": "code",
   "execution_count": null,
   "id": "0432c76a",
   "metadata": {},
   "outputs": [],
   "source": [
    "#HOW MANY CAUSES OF THE MURDER DO WE HAVE?"
   ]
  },
  {
   "cell_type": "code",
   "execution_count": 9,
   "id": "397578d1",
   "metadata": {},
   "outputs": [
    {
     "data": {
      "text/plain": [
       "Gunfire                     12869\n",
       "Automobile crash             2507\n",
       "Heart attack                 1187\n",
       "Motorcycle crash             1157\n",
       "Vehicular assault             976\n",
       "Struck by vehicle             911\n",
       "COVID19                       812\n",
       "Assault                       697\n",
       "Vehicle pursuit               677\n",
       "Gunfire (Inadvertent)         660\n",
       "Stabbed                       481\n",
       "Aircraft accident             391\n",
       "9/11 related illness          365\n",
       "Struck by train               314\n",
       "Drowned                       282\n",
       "Duty related illness          255\n",
       "Fall                          213\n",
       "Animal related                 91\n",
       "Accidental                     89\n",
       "Electrocuted                   88\n",
       "Terrorist attack               82\n",
       "Struck by streetcar            76\n",
       "Fire                           69\n",
       "Explosion                      66\n",
       "Bomb                           61\n",
       "Exposure to toxins             49\n",
       "Weather/Natural disaster       37\n",
       "Training accident              30\n",
       "Train accident                 27\n",
       "Structure collapse             25\n",
       "Heatstroke                     24\n",
       "Hypothermia                    19\n",
       "Boating accident               16\n",
       "Bicycle accident               14\n",
       "Poisoned                        4\n",
       "Unidentified                    1\n",
       "Name: Cause, dtype: int64"
      ]
     },
     "execution_count": 9,
     "metadata": {},
     "output_type": "execute_result"
    }
   ],
   "source": [
    "df['Cause'].value_counts() # Permite contar valores repetidos de la columna \"Cause\" - Causa de muerte"
   ]
  },
  {
   "cell_type": "code",
   "execution_count": null,
   "id": "f6931ba6",
   "metadata": {},
   "outputs": [],
   "source": [
    "#HOW MANY RANKS ARE IN THE DATASET?"
   ]
  },
  {
   "cell_type": "code",
   "execution_count": 14,
   "id": "59f43eed",
   "metadata": {},
   "outputs": [
    {
     "data": {
      "text/plain": [
       "Patrolman                     3841\n",
       "Police Officer                3514\n",
       "Deputy Sheriff                3215\n",
       "Officer                       1699\n",
       "Sergeant                      1420\n",
       "                              ... \n",
       "Narcotic Agent II                1\n",
       "Jail Officer                     1\n",
       "Acting Marshal                   1\n",
       "Deputy II                        1\n",
       "Assistant Principal Keeper       1\n",
       "Name: Rank, Length: 618, dtype: int64"
      ]
     },
     "execution_count": 14,
     "metadata": {},
     "output_type": "execute_result"
    }
   ],
   "source": [
    "df['Rank'].value_counts() # Permite contar valores repetidos de la columna \"Rank\" - Rangos "
   ]
  },
  {
   "cell_type": "code",
   "execution_count": null,
   "id": "30725c58",
   "metadata": {},
   "outputs": [],
   "source": [
    "# WHICH IS THE 9TH MOST COMMOM RANK? "
   ]
  },
  {
   "cell_type": "code",
   "execution_count": 21,
   "id": "dfa2fdc0",
   "metadata": {},
   "outputs": [
    {
     "data": {
      "text/plain": [
       "Patrolman          3841\n",
       "Police Officer     3514\n",
       "Deputy Sheriff     3215\n",
       "Officer            1699\n",
       "Sergeant           1420\n",
       "Detective           853\n",
       "Trooper             842\n",
       "Sheriff             768\n",
       "Chief of Police     680\n",
       "Constable           593\n",
       "Name: Rank, dtype: int64"
      ]
     },
     "execution_count": 21,
     "metadata": {},
     "output_type": "execute_result"
    }
   ],
   "source": [
    "df['Rank'].value_counts().head(10) #Cuenta los 10 rangos que más se repiten"
   ]
  },
  {
   "cell_type": "code",
   "execution_count": null,
   "id": "6e273173",
   "metadata": {},
   "outputs": [],
   "source": [
    "# WHICH DEPARTMENT HAS THE MOST POLICE DEATHS?"
   ]
  },
  {
   "cell_type": "code",
   "execution_count": 15,
   "id": "69a53e28",
   "metadata": {},
   "outputs": [
    {
     "data": {
      "text/plain": [
       "Texas                       2182\n",
       "United States               1953\n",
       "New York                    1865\n",
       "California                  1696\n",
       "Illinois                    1147\n",
       "Pennsylvania                1079\n",
       "Kentucky                     935\n",
       "Florida                      920\n",
       "Ohio                         890\n",
       "Georgia                      837\n",
       "Tennessee                    715\n",
       "Missouri                     714\n",
       "Michigan                     636\n",
       "North Carolina               624\n",
       "Alabama                      609\n",
       "Louisiana                    545\n",
       "Oklahoma                     542\n",
       "New Jersey                   529\n",
       "Virginia                     524\n",
       "Indiana                      461\n",
       "South Carolina               414\n",
       "Massachusetts                398\n",
       "Puerto Rico                  396\n",
       "Arkansas                     347\n",
       "Colorado                     342\n",
       "Maryland                     329\n",
       "Mississippi                  319\n",
       "Washington                   313\n",
       "Wisconsin                    296\n",
       "Kansas                       281\n",
       "Arizona                      280\n",
       "Minnesota                    258\n",
       "West Virginia                225\n",
       "Iowa                         213\n",
       "Oregon                       187\n",
       "New Mexico                   172\n",
       "Connecticut                  156\n",
       "District of Columbia         132\n",
       "Nevada                       131\n",
       "Utah                         130\n",
       "Montana                      129\n",
       "Nebraska                     118\n",
       "Maine                         92\n",
       "Idaho                         69\n",
       "Wyoming                       60\n",
       "North Dakota                  58\n",
       "Hawaii                        57\n",
       "South Dakota                  55\n",
       "Rhode Island                  52\n",
       "New Hampshire                 51\n",
       "Alaska                        49\n",
       "Delaware                      47\n",
       "Vermont                       28\n",
       "Guam                          14\n",
       "Virgin Islands                13\n",
       "Panama Canal Zone              3\n",
       "American Samoa                 3\n",
       "Northern Mariana Islands       3\n",
       "Name: State, dtype: int64"
      ]
     },
     "execution_count": 15,
     "metadata": {},
     "output_type": "execute_result"
    }
   ],
   "source": [
    "df['State'].value_counts() # Permite contar valores repetidos de la columna \"State\" - Muertes por Estado "
   ]
  },
  {
   "cell_type": "code",
   "execution_count": 16,
   "id": "7af754f5",
   "metadata": {},
   "outputs": [
    {
     "data": {
      "text/plain": [
       "array(['Darius Quimby', 'Cornelius Hogeboom', 'Isaac Smith', ...,\n",
       "       'Ryan Patrick Copeland', 'Timothy James Brackeen',\n",
       "       'Jordan Harris Sheldon'], dtype=object)"
      ]
     },
     "execution_count": 16,
     "metadata": {},
     "output_type": "execute_result"
    }
   ],
   "source": [
    "df['Name'].unique() #valores unicos"
   ]
  },
  {
   "cell_type": "code",
   "execution_count": 17,
   "id": "119cd80d",
   "metadata": {},
   "outputs": [
    {
     "data": {
      "text/plain": [
       "25493"
      ]
     },
     "execution_count": 17,
     "metadata": {},
     "output_type": "execute_result"
    }
   ],
   "source": [
    "df['Name'].nunique() #cuanto valores únicos hay"
   ]
  },
  {
   "cell_type": "code",
   "execution_count": 18,
   "id": "2297f76e",
   "metadata": {},
   "outputs": [
    {
     "data": {
      "text/plain": [
       "array(['Stabbed', 'Gunfire', 'Duty related illness', 'Assault', 'Fall',\n",
       "       'Drowned', 'Structure collapse', 'Fire', 'Gunfire (Inadvertent)',\n",
       "       'Explosion', 'Vehicular assault', 'Animal related', 'Heart attack',\n",
       "       'Weather/Natural disaster', 'Accidental', 'Hypothermia',\n",
       "       'Heatstroke', 'Train accident', 'Struck by streetcar',\n",
       "       'Struck by train', 'Bomb', 'Poisoned', 'Electrocuted',\n",
       "       'Boating accident', 'Bicycle accident', 'Automobile crash',\n",
       "       'Struck by vehicle', nan, 'Exposure to toxins', 'Motorcycle crash',\n",
       "       'Vehicle pursuit', 'Unidentified', 'Training accident',\n",
       "       'Aircraft accident', 'Terrorist attack', '9/11 related illness',\n",
       "       'COVID19'], dtype=object)"
      ]
     },
     "execution_count": 18,
     "metadata": {},
     "output_type": "execute_result"
    }
   ],
   "source": [
    "df['Cause'].unique()"
   ]
  },
  {
   "cell_type": "code",
   "execution_count": 19,
   "id": "03ca5249",
   "metadata": {},
   "outputs": [
    {
     "data": {
      "text/plain": [
       "36"
      ]
     },
     "execution_count": 19,
     "metadata": {},
     "output_type": "execute_result"
    }
   ],
   "source": [
    "df['Cause'].nunique()"
   ]
  },
  {
   "cell_type": "code",
   "execution_count": 20,
   "id": "a2ac3abf",
   "metadata": {},
   "outputs": [
    {
     "data": {
      "text/plain": [
       "618"
      ]
     },
     "execution_count": 20,
     "metadata": {},
     "output_type": "execute_result"
    }
   ],
   "source": [
    "df['Rank'].nunique()"
   ]
  },
  {
   "cell_type": "markdown",
   "id": "2d64d4bd",
   "metadata": {},
   "source": [
    "# Operations with Columns & Rows"
   ]
  },
  {
   "cell_type": "code",
   "execution_count": 22,
   "id": "ad483c69",
   "metadata": {},
   "outputs": [
    {
     "data": {
      "text/html": [
       "<div>\n",
       "<style scoped>\n",
       "    .dataframe tbody tr th:only-of-type {\n",
       "        vertical-align: middle;\n",
       "    }\n",
       "\n",
       "    .dataframe tbody tr th {\n",
       "        vertical-align: top;\n",
       "    }\n",
       "\n",
       "    .dataframe thead th {\n",
       "        text-align: right;\n",
       "    }\n",
       "</style>\n",
       "<table border=\"1\" class=\"dataframe\">\n",
       "  <thead>\n",
       "    <tr style=\"text-align: right;\">\n",
       "      <th></th>\n",
       "      <th>Rank</th>\n",
       "      <th>Name</th>\n",
       "      <th>Age</th>\n",
       "      <th>End_Of_Watch</th>\n",
       "      <th>Day_Of_Week</th>\n",
       "      <th>Cause</th>\n",
       "      <th>Department</th>\n",
       "      <th>State</th>\n",
       "      <th>Tour</th>\n",
       "      <th>Badge</th>\n",
       "      <th>Weapon</th>\n",
       "      <th>Offender</th>\n",
       "      <th>Summary</th>\n",
       "    </tr>\n",
       "  </thead>\n",
       "  <tbody>\n",
       "    <tr>\n",
       "      <th>3</th>\n",
       "      <td>Marshal</td>\n",
       "      <td>Robert Forsyth</td>\n",
       "      <td>40.0</td>\n",
       "      <td>1794-01-11</td>\n",
       "      <td>Saturday</td>\n",
       "      <td>Gunfire</td>\n",
       "      <td>United States Department of Justice - United S...</td>\n",
       "      <td>United States</td>\n",
       "      <td>4 years, 4 months</td>\n",
       "      <td>4</td>\n",
       "      <td>Handgun; Pistol</td>\n",
       "      <td>Escaped</td>\n",
       "      <td>Marshal Robert Forsyth, believed to be one of ...</td>\n",
       "    </tr>\n",
       "    <tr>\n",
       "      <th>5</th>\n",
       "      <td>Sheriff</td>\n",
       "      <td>Robert Maxwell</td>\n",
       "      <td>45.0</td>\n",
       "      <td>1797-11-12</td>\n",
       "      <td>Sunday</td>\n",
       "      <td>Gunfire</td>\n",
       "      <td>Washington District Sheriff's Office, South Ca...</td>\n",
       "      <td>South Carolina</td>\n",
       "      <td>NaN</td>\n",
       "      <td>NaN</td>\n",
       "      <td>Gun; Unknown type</td>\n",
       "      <td>Acquitted</td>\n",
       "      <td>Sheriff Robert Maxwell was shot and killed aft...</td>\n",
       "    </tr>\n",
       "  </tbody>\n",
       "</table>\n",
       "</div>"
      ],
      "text/plain": [
       "      Rank            Name   Age End_Of_Watch Day_Of_Week    Cause  \\\n",
       "3  Marshal  Robert Forsyth  40.0   1794-01-11    Saturday  Gunfire   \n",
       "5  Sheriff  Robert Maxwell  45.0   1797-11-12      Sunday  Gunfire   \n",
       "\n",
       "                                          Department           State  \\\n",
       "3  United States Department of Justice - United S...   United States   \n",
       "5  Washington District Sheriff's Office, South Ca...  South Carolina   \n",
       "\n",
       "                Tour Badge             Weapon   Offender  \\\n",
       "3  4 years, 4 months     4    Handgun; Pistol    Escaped   \n",
       "5                NaN   NaN  Gun; Unknown type  Acquitted   \n",
       "\n",
       "                                             Summary  \n",
       "3  Marshal Robert Forsyth, believed to be one of ...  \n",
       "5  Sheriff Robert Maxwell was shot and killed aft...  "
      ]
     },
     "execution_count": 22,
     "metadata": {},
     "output_type": "execute_result"
    }
   ],
   "source": [
    "less_50 = df[df['Age']<= 50]\n",
    "less_50.head(2)"
   ]
  },
  {
   "cell_type": "code",
   "execution_count": 24,
   "id": "e83032d4",
   "metadata": {},
   "outputs": [
    {
     "data": {
      "text/plain": [
       "(35.0, 50.0)"
      ]
     },
     "execution_count": 24,
     "metadata": {},
     "output_type": "execute_result"
    }
   ],
   "source": [
    "less_50['Age'].median(), less_50['Age'].max()"
   ]
  },
  {
   "cell_type": "code",
   "execution_count": 25,
   "id": "8e44d5dc",
   "metadata": {},
   "outputs": [
    {
     "data": {
      "text/html": [
       "<div>\n",
       "<style scoped>\n",
       "    .dataframe tbody tr th:only-of-type {\n",
       "        vertical-align: middle;\n",
       "    }\n",
       "\n",
       "    .dataframe tbody tr th {\n",
       "        vertical-align: top;\n",
       "    }\n",
       "\n",
       "    .dataframe thead th {\n",
       "        text-align: right;\n",
       "    }\n",
       "</style>\n",
       "<table border=\"1\" class=\"dataframe\">\n",
       "  <thead>\n",
       "    <tr style=\"text-align: right;\">\n",
       "      <th></th>\n",
       "      <th>Rank</th>\n",
       "      <th>Name</th>\n",
       "      <th>Age</th>\n",
       "    </tr>\n",
       "  </thead>\n",
       "  <tbody>\n",
       "    <tr>\n",
       "      <th>0</th>\n",
       "      <td>Constable</td>\n",
       "      <td>Darius Quimby</td>\n",
       "      <td>NaN</td>\n",
       "    </tr>\n",
       "    <tr>\n",
       "      <th>1</th>\n",
       "      <td>Sheriff</td>\n",
       "      <td>Cornelius Hogeboom</td>\n",
       "      <td>53.0</td>\n",
       "    </tr>\n",
       "    <tr>\n",
       "      <th>2</th>\n",
       "      <td>Deputy Sheriff</td>\n",
       "      <td>Isaac Smith</td>\n",
       "      <td>NaN</td>\n",
       "    </tr>\n",
       "    <tr>\n",
       "      <th>3</th>\n",
       "      <td>Marshal</td>\n",
       "      <td>Robert Forsyth</td>\n",
       "      <td>40.0</td>\n",
       "    </tr>\n",
       "    <tr>\n",
       "      <th>4</th>\n",
       "      <td>Deputy Sheriff</td>\n",
       "      <td>Robert Berwick</td>\n",
       "      <td>NaN</td>\n",
       "    </tr>\n",
       "  </tbody>\n",
       "</table>\n",
       "</div>"
      ],
      "text/plain": [
       "             Rank                Name   Age\n",
       "0       Constable       Darius Quimby   NaN\n",
       "1         Sheriff  Cornelius Hogeboom  53.0\n",
       "2  Deputy Sheriff         Isaac Smith   NaN\n",
       "3         Marshal      Robert Forsyth  40.0\n",
       "4  Deputy Sheriff      Robert Berwick   NaN"
      ]
     },
     "execution_count": 25,
     "metadata": {},
     "output_type": "execute_result"
    }
   ],
   "source": [
    "new_df = df[['Rank', 'Name', 'Age']]\n",
    "new_df.head()"
   ]
  },
  {
   "cell_type": "code",
   "execution_count": 27,
   "id": "1627c142",
   "metadata": {},
   "outputs": [
    {
     "data": {
      "text/plain": [
       "(10, 13)"
      ]
     },
     "execution_count": 27,
     "metadata": {},
     "output_type": "execute_result"
    }
   ],
   "source": [
    "new_df = df.iloc[0:10]\n",
    "new_df.shape"
   ]
  },
  {
   "cell_type": "code",
   "execution_count": 28,
   "id": "e0051c45",
   "metadata": {},
   "outputs": [
    {
     "data": {
      "text/html": [
       "<div>\n",
       "<style scoped>\n",
       "    .dataframe tbody tr th:only-of-type {\n",
       "        vertical-align: middle;\n",
       "    }\n",
       "\n",
       "    .dataframe tbody tr th {\n",
       "        vertical-align: top;\n",
       "    }\n",
       "\n",
       "    .dataframe thead th {\n",
       "        text-align: right;\n",
       "    }\n",
       "</style>\n",
       "<table border=\"1\" class=\"dataframe\">\n",
       "  <thead>\n",
       "    <tr style=\"text-align: right;\">\n",
       "      <th></th>\n",
       "      <th>Rank</th>\n",
       "      <th>Name</th>\n",
       "      <th>Age</th>\n",
       "      <th>End_Of_Watch</th>\n",
       "      <th>Day_Of_Week</th>\n",
       "      <th>Cause</th>\n",
       "      <th>Department</th>\n",
       "      <th>State</th>\n",
       "      <th>Tour</th>\n",
       "      <th>Badge</th>\n",
       "      <th>Weapon</th>\n",
       "      <th>Offender</th>\n",
       "      <th>Summary</th>\n",
       "      <th>Binary age</th>\n",
       "    </tr>\n",
       "  </thead>\n",
       "  <tbody>\n",
       "    <tr>\n",
       "      <th>0</th>\n",
       "      <td>Constable</td>\n",
       "      <td>Darius Quimby</td>\n",
       "      <td>NaN</td>\n",
       "      <td>1791-01-03</td>\n",
       "      <td>Monday</td>\n",
       "      <td>Stabbed</td>\n",
       "      <td>Albany County Constable's Office, New York</td>\n",
       "      <td>New York</td>\n",
       "      <td>NaN</td>\n",
       "      <td>NaN</td>\n",
       "      <td>Edged weapon; Knife</td>\n",
       "      <td>Executed in 1791</td>\n",
       "      <td>Constable Darius Quimby was stabbed to death w...</td>\n",
       "      <td>0</td>\n",
       "    </tr>\n",
       "    <tr>\n",
       "      <th>1</th>\n",
       "      <td>Sheriff</td>\n",
       "      <td>Cornelius Hogeboom</td>\n",
       "      <td>53.0</td>\n",
       "      <td>1791-10-22</td>\n",
       "      <td>Saturday</td>\n",
       "      <td>Gunfire</td>\n",
       "      <td>Columbia County Sheriff's Office, New York</td>\n",
       "      <td>New York</td>\n",
       "      <td>2 years</td>\n",
       "      <td>NaN</td>\n",
       "      <td>Gun; Unknown type</td>\n",
       "      <td>Acquitted</td>\n",
       "      <td>Sheriff Cornelius Hogeboom was shot and killed...</td>\n",
       "      <td>1</td>\n",
       "    </tr>\n",
       "  </tbody>\n",
       "</table>\n",
       "</div>"
      ],
      "text/plain": [
       "        Rank                Name   Age End_Of_Watch Day_Of_Week    Cause  \\\n",
       "0  Constable       Darius Quimby   NaN   1791-01-03      Monday  Stabbed   \n",
       "1    Sheriff  Cornelius Hogeboom  53.0   1791-10-22    Saturday  Gunfire   \n",
       "\n",
       "                                   Department     State     Tour Badge  \\\n",
       "0  Albany County Constable's Office, New York  New York      NaN   NaN   \n",
       "1  Columbia County Sheriff's Office, New York  New York  2 years   NaN   \n",
       "\n",
       "                Weapon          Offender  \\\n",
       "0  Edged weapon; Knife  Executed in 1791   \n",
       "1    Gun; Unknown type         Acquitted   \n",
       "\n",
       "                                             Summary  Binary age  \n",
       "0  Constable Darius Quimby was stabbed to death w...           0  \n",
       "1  Sheriff Cornelius Hogeboom was shot and killed...           1  "
      ]
     },
     "execution_count": 28,
     "metadata": {},
     "output_type": "execute_result"
    }
   ],
   "source": [
    "new_list = []\n",
    "for el in df['Age'].tolist():\n",
    "    if el > 50:\n",
    "        new_list.append(1)\n",
    "    else:\n",
    "        new_list.append(0)\n",
    "        \n",
    "df['Binary age'] = new_list\n",
    "df.head(2)"
   ]
  },
  {
   "cell_type": "markdown",
   "id": "473b55e2",
   "metadata": {},
   "source": [
    "# Exercise"
   ]
  },
  {
   "cell_type": "code",
   "execution_count": null,
   "id": "bc189c44",
   "metadata": {},
   "outputs": [],
   "source": [
    "#Corregir los datos de la columna Age en -2"
   ]
  },
  {
   "cell_type": "code",
   "execution_count": 29,
   "id": "07850b11",
   "metadata": {},
   "outputs": [
    {
     "data": {
      "text/html": [
       "<div>\n",
       "<style scoped>\n",
       "    .dataframe tbody tr th:only-of-type {\n",
       "        vertical-align: middle;\n",
       "    }\n",
       "\n",
       "    .dataframe tbody tr th {\n",
       "        vertical-align: top;\n",
       "    }\n",
       "\n",
       "    .dataframe thead th {\n",
       "        text-align: right;\n",
       "    }\n",
       "</style>\n",
       "<table border=\"1\" class=\"dataframe\">\n",
       "  <thead>\n",
       "    <tr style=\"text-align: right;\">\n",
       "      <th></th>\n",
       "      <th>Rank</th>\n",
       "      <th>Name</th>\n",
       "      <th>Age</th>\n",
       "      <th>End_Of_Watch</th>\n",
       "      <th>Day_Of_Week</th>\n",
       "      <th>Cause</th>\n",
       "      <th>Department</th>\n",
       "      <th>State</th>\n",
       "      <th>Tour</th>\n",
       "      <th>Badge</th>\n",
       "      <th>Weapon</th>\n",
       "      <th>Offender</th>\n",
       "      <th>Summary</th>\n",
       "      <th>Binary age</th>\n",
       "      <th>corrected_age</th>\n",
       "    </tr>\n",
       "  </thead>\n",
       "  <tbody>\n",
       "    <tr>\n",
       "      <th>0</th>\n",
       "      <td>Constable</td>\n",
       "      <td>Darius Quimby</td>\n",
       "      <td>NaN</td>\n",
       "      <td>1791-01-03</td>\n",
       "      <td>Monday</td>\n",
       "      <td>Stabbed</td>\n",
       "      <td>Albany County Constable's Office, New York</td>\n",
       "      <td>New York</td>\n",
       "      <td>NaN</td>\n",
       "      <td>NaN</td>\n",
       "      <td>Edged weapon; Knife</td>\n",
       "      <td>Executed in 1791</td>\n",
       "      <td>Constable Darius Quimby was stabbed to death w...</td>\n",
       "      <td>0</td>\n",
       "      <td>NaN</td>\n",
       "    </tr>\n",
       "    <tr>\n",
       "      <th>1</th>\n",
       "      <td>Sheriff</td>\n",
       "      <td>Cornelius Hogeboom</td>\n",
       "      <td>53.0</td>\n",
       "      <td>1791-10-22</td>\n",
       "      <td>Saturday</td>\n",
       "      <td>Gunfire</td>\n",
       "      <td>Columbia County Sheriff's Office, New York</td>\n",
       "      <td>New York</td>\n",
       "      <td>2 years</td>\n",
       "      <td>NaN</td>\n",
       "      <td>Gun; Unknown type</td>\n",
       "      <td>Acquitted</td>\n",
       "      <td>Sheriff Cornelius Hogeboom was shot and killed...</td>\n",
       "      <td>1</td>\n",
       "      <td>51.0</td>\n",
       "    </tr>\n",
       "  </tbody>\n",
       "</table>\n",
       "</div>"
      ],
      "text/plain": [
       "        Rank                Name   Age End_Of_Watch Day_Of_Week    Cause  \\\n",
       "0  Constable       Darius Quimby   NaN   1791-01-03      Monday  Stabbed   \n",
       "1    Sheriff  Cornelius Hogeboom  53.0   1791-10-22    Saturday  Gunfire   \n",
       "\n",
       "                                   Department     State     Tour Badge  \\\n",
       "0  Albany County Constable's Office, New York  New York      NaN   NaN   \n",
       "1  Columbia County Sheriff's Office, New York  New York  2 years   NaN   \n",
       "\n",
       "                Weapon          Offender  \\\n",
       "0  Edged weapon; Knife  Executed in 1791   \n",
       "1    Gun; Unknown type         Acquitted   \n",
       "\n",
       "                                             Summary  Binary age  \\\n",
       "0  Constable Darius Quimby was stabbed to death w...           0   \n",
       "1  Sheriff Cornelius Hogeboom was shot and killed...           1   \n",
       "\n",
       "   corrected_age  \n",
       "0            NaN  \n",
       "1           51.0  "
      ]
     },
     "execution_count": 29,
     "metadata": {},
     "output_type": "execute_result"
    }
   ],
   "source": [
    "df['corrected_age'] = df['Age'] - 2\n",
    "df.head(2)"
   ]
  },
  {
   "cell_type": "markdown",
   "id": "83152493",
   "metadata": {},
   "source": [
    "# GROUPBY"
   ]
  },
  {
   "cell_type": "code",
   "execution_count": 35,
   "id": "5b844f0f",
   "metadata": {},
   "outputs": [],
   "source": [
    "gk = df.groupby('Day_Of_Week')"
   ]
  },
  {
   "cell_type": "code",
   "execution_count": 39,
   "id": "fba91dae",
   "metadata": {},
   "outputs": [
    {
     "data": {
      "text/html": [
       "<div>\n",
       "<style scoped>\n",
       "    .dataframe tbody tr th:only-of-type {\n",
       "        vertical-align: middle;\n",
       "    }\n",
       "\n",
       "    .dataframe tbody tr th {\n",
       "        vertical-align: top;\n",
       "    }\n",
       "\n",
       "    .dataframe thead th {\n",
       "        text-align: right;\n",
       "    }\n",
       "</style>\n",
       "<table border=\"1\" class=\"dataframe\">\n",
       "  <thead>\n",
       "    <tr style=\"text-align: right;\">\n",
       "      <th></th>\n",
       "      <th>Rank</th>\n",
       "      <th>Name</th>\n",
       "      <th>Age</th>\n",
       "      <th>End_Of_Watch</th>\n",
       "      <th>Day_Of_Week</th>\n",
       "      <th>Cause</th>\n",
       "      <th>Department</th>\n",
       "      <th>State</th>\n",
       "      <th>Tour</th>\n",
       "      <th>Badge</th>\n",
       "      <th>Weapon</th>\n",
       "      <th>Offender</th>\n",
       "      <th>Summary</th>\n",
       "      <th>Binary age</th>\n",
       "      <th>corrected_age</th>\n",
       "    </tr>\n",
       "  </thead>\n",
       "  <tbody>\n",
       "    <tr>\n",
       "      <th>1</th>\n",
       "      <td>Sheriff</td>\n",
       "      <td>Cornelius Hogeboom</td>\n",
       "      <td>53.0</td>\n",
       "      <td>1791-10-22</td>\n",
       "      <td>Saturday</td>\n",
       "      <td>Gunfire</td>\n",
       "      <td>Columbia County Sheriff's Office, New York</td>\n",
       "      <td>New York</td>\n",
       "      <td>2 years</td>\n",
       "      <td>NaN</td>\n",
       "      <td>Gun; Unknown type</td>\n",
       "      <td>Acquitted</td>\n",
       "      <td>Sheriff Cornelius Hogeboom was shot and killed...</td>\n",
       "      <td>1</td>\n",
       "      <td>51.0</td>\n",
       "    </tr>\n",
       "    <tr>\n",
       "      <th>3</th>\n",
       "      <td>Marshal</td>\n",
       "      <td>Robert Forsyth</td>\n",
       "      <td>40.0</td>\n",
       "      <td>1794-01-11</td>\n",
       "      <td>Saturday</td>\n",
       "      <td>Gunfire</td>\n",
       "      <td>United States Department of Justice - United S...</td>\n",
       "      <td>United States</td>\n",
       "      <td>4 years, 4 months</td>\n",
       "      <td>4</td>\n",
       "      <td>Handgun; Pistol</td>\n",
       "      <td>Escaped</td>\n",
       "      <td>Marshal Robert Forsyth, believed to be one of ...</td>\n",
       "      <td>0</td>\n",
       "      <td>38.0</td>\n",
       "    </tr>\n",
       "    <tr>\n",
       "      <th>9</th>\n",
       "      <td>Deputy Sheriff</td>\n",
       "      <td>John A. Gooch</td>\n",
       "      <td>NaN</td>\n",
       "      <td>1807-03-07</td>\n",
       "      <td>Saturday</td>\n",
       "      <td>Gunfire</td>\n",
       "      <td>Livingston County Sheriff's Department, Kentucky</td>\n",
       "      <td>Kentucky</td>\n",
       "      <td>2 years</td>\n",
       "      <td>NaN</td>\n",
       "      <td>Handgun</td>\n",
       "      <td>NaN</td>\n",
       "      <td>Deputy Sheriff John Gooch was shot and killed ...</td>\n",
       "      <td>0</td>\n",
       "      <td>NaN</td>\n",
       "    </tr>\n",
       "    <tr>\n",
       "      <th>21</th>\n",
       "      <td>Constable</td>\n",
       "      <td>Jacob Dearduff, Sr.</td>\n",
       "      <td>NaN</td>\n",
       "      <td>1823-02-22</td>\n",
       "      <td>Saturday</td>\n",
       "      <td>Stabbed</td>\n",
       "      <td>Jamestown Police Department, Ohio</td>\n",
       "      <td>Ohio</td>\n",
       "      <td>NaN</td>\n",
       "      <td>NaN</td>\n",
       "      <td>Edged weapon; Knife</td>\n",
       "      <td>Spent life in prison</td>\n",
       "      <td>Constable Dearduff died from a stab wound he r...</td>\n",
       "      <td>0</td>\n",
       "      <td>NaN</td>\n",
       "    </tr>\n",
       "    <tr>\n",
       "      <th>29</th>\n",
       "      <td>Sheriff</td>\n",
       "      <td>Thomas Griffin Thornton</td>\n",
       "      <td>NaN</td>\n",
       "      <td>1830-06-12</td>\n",
       "      <td>Saturday</td>\n",
       "      <td>Gunfire</td>\n",
       "      <td>Caroline County Sheriff's Office, Virginia</td>\n",
       "      <td>Virginia</td>\n",
       "      <td>NaN</td>\n",
       "      <td>NaN</td>\n",
       "      <td>Gun; Unknown type</td>\n",
       "      <td>Executed</td>\n",
       "      <td>Sheriff Thomas Thornton was shot and killed wh...</td>\n",
       "      <td>0</td>\n",
       "      <td>NaN</td>\n",
       "    </tr>\n",
       "    <tr>\n",
       "      <th>...</th>\n",
       "      <td>...</td>\n",
       "      <td>...</td>\n",
       "      <td>...</td>\n",
       "      <td>...</td>\n",
       "      <td>...</td>\n",
       "      <td>...</td>\n",
       "      <td>...</td>\n",
       "      <td>...</td>\n",
       "      <td>...</td>\n",
       "      <td>...</td>\n",
       "      <td>...</td>\n",
       "      <td>...</td>\n",
       "      <td>...</td>\n",
       "      <td>...</td>\n",
       "      <td>...</td>\n",
       "    </tr>\n",
       "    <tr>\n",
       "      <th>25589</th>\n",
       "      <td>Police Officer</td>\n",
       "      <td>Nicholas Vella</td>\n",
       "      <td>44.0</td>\n",
       "      <td>2022-02-19</td>\n",
       "      <td>Saturday</td>\n",
       "      <td>Aircraft accident</td>\n",
       "      <td>Huntington Beach Police Department, California</td>\n",
       "      <td>California</td>\n",
       "      <td>16 years</td>\n",
       "      <td>2120</td>\n",
       "      <td>NaN</td>\n",
       "      <td>NaN</td>\n",
       "      <td>Police Officer Nicholas Vella was killed in a ...</td>\n",
       "      <td>0</td>\n",
       "      <td>42.0</td>\n",
       "    </tr>\n",
       "    <tr>\n",
       "      <th>25598</th>\n",
       "      <td>Deputy Sheriff</td>\n",
       "      <td>Michael Adam Levison</td>\n",
       "      <td>30.0</td>\n",
       "      <td>2022-07-16</td>\n",
       "      <td>Saturday</td>\n",
       "      <td>Aircraft accident</td>\n",
       "      <td>Bernalillo County Sheriff's Office, New Mexico</td>\n",
       "      <td>New Mexico</td>\n",
       "      <td>5 years</td>\n",
       "      <td>218</td>\n",
       "      <td>NaN</td>\n",
       "      <td>NaN</td>\n",
       "      <td>Deputy Sheriff Michael Levison, Undersheriff L...</td>\n",
       "      <td>0</td>\n",
       "      <td>28.0</td>\n",
       "    </tr>\n",
       "    <tr>\n",
       "      <th>25603</th>\n",
       "      <td>Deputy Sheriff</td>\n",
       "      <td>Lorin Marie Readmond</td>\n",
       "      <td>41.0</td>\n",
       "      <td>2022-01-29</td>\n",
       "      <td>Saturday</td>\n",
       "      <td>Automobile crash</td>\n",
       "      <td>Loving County Sheriff's Office, Texas</td>\n",
       "      <td>Texas</td>\n",
       "      <td>7 years, 1 month</td>\n",
       "      <td>LC106</td>\n",
       "      <td>NaN</td>\n",
       "      <td>NaN</td>\n",
       "      <td>Deputy Sheriff Lorin Readmond was killed in a ...</td>\n",
       "      <td>0</td>\n",
       "      <td>39.0</td>\n",
       "    </tr>\n",
       "    <tr>\n",
       "      <th>25618</th>\n",
       "      <td>Police Officer</td>\n",
       "      <td>Donald Sahota</td>\n",
       "      <td>52.0</td>\n",
       "      <td>2022-01-29</td>\n",
       "      <td>Saturday</td>\n",
       "      <td>Gunfire (Inadvertent)</td>\n",
       "      <td>Vancouver Police Department, Washington</td>\n",
       "      <td>Washington</td>\n",
       "      <td>27 years, 6 months</td>\n",
       "      <td>1531</td>\n",
       "      <td>Handgun</td>\n",
       "      <td>Arrested</td>\n",
       "      <td>Police Officer Donald Sahota was inadvertently...</td>\n",
       "      <td>1</td>\n",
       "      <td>50.0</td>\n",
       "    </tr>\n",
       "    <tr>\n",
       "      <th>25622</th>\n",
       "      <td>K9 Officer</td>\n",
       "      <td>Jordan Harris Sheldon</td>\n",
       "      <td>32.0</td>\n",
       "      <td>2019-05-04</td>\n",
       "      <td>Saturday</td>\n",
       "      <td>Gunfire</td>\n",
       "      <td>Mooresville Police Department, North Carolina</td>\n",
       "      <td>North Carolina</td>\n",
       "      <td>6 years</td>\n",
       "      <td>NaN</td>\n",
       "      <td>Gun; Unknown type</td>\n",
       "      <td>Committed suicide</td>\n",
       "      <td>Police Officer Jordan Sheldon was shot and kil...</td>\n",
       "      <td>0</td>\n",
       "      <td>30.0</td>\n",
       "    </tr>\n",
       "  </tbody>\n",
       "</table>\n",
       "<p>4002 rows × 15 columns</p>\n",
       "</div>"
      ],
      "text/plain": [
       "                 Rank                     Name   Age End_Of_Watch Day_Of_Week  \\\n",
       "1             Sheriff       Cornelius Hogeboom  53.0   1791-10-22    Saturday   \n",
       "3             Marshal           Robert Forsyth  40.0   1794-01-11    Saturday   \n",
       "9      Deputy Sheriff            John A. Gooch   NaN   1807-03-07    Saturday   \n",
       "21          Constable      Jacob Dearduff, Sr.   NaN   1823-02-22    Saturday   \n",
       "29            Sheriff  Thomas Griffin Thornton   NaN   1830-06-12    Saturday   \n",
       "...               ...                      ...   ...          ...         ...   \n",
       "25589  Police Officer           Nicholas Vella  44.0   2022-02-19    Saturday   \n",
       "25598  Deputy Sheriff     Michael Adam Levison  30.0   2022-07-16    Saturday   \n",
       "25603  Deputy Sheriff     Lorin Marie Readmond  41.0   2022-01-29    Saturday   \n",
       "25618  Police Officer            Donald Sahota  52.0   2022-01-29    Saturday   \n",
       "25622      K9 Officer    Jordan Harris Sheldon  32.0   2019-05-04    Saturday   \n",
       "\n",
       "                       Cause  \\\n",
       "1                    Gunfire   \n",
       "3                    Gunfire   \n",
       "9                    Gunfire   \n",
       "21                   Stabbed   \n",
       "29                   Gunfire   \n",
       "...                      ...   \n",
       "25589      Aircraft accident   \n",
       "25598      Aircraft accident   \n",
       "25603       Automobile crash   \n",
       "25618  Gunfire (Inadvertent)   \n",
       "25622                Gunfire   \n",
       "\n",
       "                                              Department           State  \\\n",
       "1             Columbia County Sheriff's Office, New York        New York   \n",
       "3      United States Department of Justice - United S...   United States   \n",
       "9       Livingston County Sheriff's Department, Kentucky        Kentucky   \n",
       "21                     Jamestown Police Department, Ohio            Ohio   \n",
       "29            Caroline County Sheriff's Office, Virginia        Virginia   \n",
       "...                                                  ...             ...   \n",
       "25589     Huntington Beach Police Department, California      California   \n",
       "25598     Bernalillo County Sheriff's Office, New Mexico      New Mexico   \n",
       "25603              Loving County Sheriff's Office, Texas           Texas   \n",
       "25618            Vancouver Police Department, Washington      Washington   \n",
       "25622      Mooresville Police Department, North Carolina  North Carolina   \n",
       "\n",
       "                     Tour  Badge               Weapon              Offender  \\\n",
       "1                 2 years    NaN    Gun; Unknown type             Acquitted   \n",
       "3       4 years, 4 months      4      Handgun; Pistol               Escaped   \n",
       "9                 2 years    NaN              Handgun                   NaN   \n",
       "21                    NaN    NaN  Edged weapon; Knife  Spent life in prison   \n",
       "29                    NaN    NaN    Gun; Unknown type              Executed   \n",
       "...                   ...    ...                  ...                   ...   \n",
       "25589            16 years   2120                  NaN                   NaN   \n",
       "25598             5 years    218                  NaN                   NaN   \n",
       "25603    7 years, 1 month  LC106                  NaN                   NaN   \n",
       "25618  27 years, 6 months   1531              Handgun              Arrested   \n",
       "25622             6 years    NaN    Gun; Unknown type     Committed suicide   \n",
       "\n",
       "                                                 Summary  Binary age  \\\n",
       "1      Sheriff Cornelius Hogeboom was shot and killed...           1   \n",
       "3      Marshal Robert Forsyth, believed to be one of ...           0   \n",
       "9      Deputy Sheriff John Gooch was shot and killed ...           0   \n",
       "21     Constable Dearduff died from a stab wound he r...           0   \n",
       "29     Sheriff Thomas Thornton was shot and killed wh...           0   \n",
       "...                                                  ...         ...   \n",
       "25589  Police Officer Nicholas Vella was killed in a ...           0   \n",
       "25598  Deputy Sheriff Michael Levison, Undersheriff L...           0   \n",
       "25603  Deputy Sheriff Lorin Readmond was killed in a ...           0   \n",
       "25618  Police Officer Donald Sahota was inadvertently...           1   \n",
       "25622  Police Officer Jordan Sheldon was shot and kil...           0   \n",
       "\n",
       "       corrected_age  \n",
       "1               51.0  \n",
       "3               38.0  \n",
       "9                NaN  \n",
       "21               NaN  \n",
       "29               NaN  \n",
       "...              ...  \n",
       "25589           42.0  \n",
       "25598           28.0  \n",
       "25603           39.0  \n",
       "25618           50.0  \n",
       "25622           30.0  \n",
       "\n",
       "[4002 rows x 15 columns]"
      ]
     },
     "execution_count": 39,
     "metadata": {},
     "output_type": "execute_result"
    }
   ],
   "source": [
    "gk.get_group('Saturday')"
   ]
  },
  {
   "cell_type": "code",
   "execution_count": 40,
   "id": "5c2cc9cf",
   "metadata": {},
   "outputs": [
    {
     "name": "stdout",
     "output_type": "stream",
     "text": [
      "Friday 40.33\n",
      "Monday 40.32\n",
      "Saturday 39.89\n",
      "Sunday 39.79\n",
      "Thursday 40.36\n",
      "Tuesday 40.53\n",
      "Wednesday 40.89\n"
     ]
    },
    {
     "name": "stderr",
     "output_type": "stream",
     "text": [
      "/var/folders/fd/fxtr52v94x93fjxc0rywkng80000gn/T/ipykernel_46627/2792612470.py:1: FutureWarning: In a future version of pandas, a length 1 tuple will be returned when iterating over a groupby with a grouper equal to a list of length 1. Don't supply a list with a single grouper to avoid this warning.\n",
      "  for group, df_group in df.groupby(['Day_Of_Week']):\n"
     ]
    }
   ],
   "source": [
    "for group, df_group in df.groupby(['Day_Of_Week']):\n",
    "    print(group, round(df_group['Age'].mean(), 2))"
   ]
  },
  {
   "cell_type": "markdown",
   "id": "d09a22e2",
   "metadata": {},
   "source": []
  },
  {
   "cell_type": "code",
   "execution_count": null,
   "id": "c34c1ed8",
   "metadata": {},
   "outputs": [],
   "source": []
  },
  {
   "cell_type": "code",
   "execution_count": null,
   "id": "f22a8f05",
   "metadata": {},
   "outputs": [],
   "source": []
  },
  {
   "cell_type": "markdown",
   "id": "4c231fba",
   "metadata": {},
   "source": [
    "# Apply"
   ]
  },
  {
   "cell_type": "markdown",
   "id": "eda6f8e1",
   "metadata": {},
   "source": [
    "# EXERCISE"
   ]
  },
  {
   "cell_type": "code",
   "execution_count": null,
   "id": "4d44f974",
   "metadata": {},
   "outputs": [],
   "source": [
    "#Construye la columna Rangos de edad (Nueva columna)"
   ]
  },
  {
   "cell_type": "code",
   "execution_count": 44,
   "id": "c228d431",
   "metadata": {},
   "outputs": [],
   "source": [
    "def age_ranges(x):\n",
    "    if x<25:\n",
    "        return 'Younger than 25'\n",
    "    elif x>55:\n",
    "        return 'Older than 55'\n",
    "    else:\n",
    "        return 'Between 25 and 55'\n",
    "    \n"
   ]
  },
  {
   "cell_type": "code",
   "execution_count": 45,
   "id": "b7d527d7",
   "metadata": {},
   "outputs": [],
   "source": [
    "df['Age Range']= df['Age'].apply(age_ranges)"
   ]
  },
  {
   "cell_type": "code",
   "execution_count": 46,
   "id": "de9faf56",
   "metadata": {},
   "outputs": [
    {
     "data": {
      "text/html": [
       "<div>\n",
       "<style scoped>\n",
       "    .dataframe tbody tr th:only-of-type {\n",
       "        vertical-align: middle;\n",
       "    }\n",
       "\n",
       "    .dataframe tbody tr th {\n",
       "        vertical-align: top;\n",
       "    }\n",
       "\n",
       "    .dataframe thead th {\n",
       "        text-align: right;\n",
       "    }\n",
       "</style>\n",
       "<table border=\"1\" class=\"dataframe\">\n",
       "  <thead>\n",
       "    <tr style=\"text-align: right;\">\n",
       "      <th></th>\n",
       "      <th>Rank</th>\n",
       "      <th>Name</th>\n",
       "      <th>Age</th>\n",
       "      <th>End_Of_Watch</th>\n",
       "      <th>Day_Of_Week</th>\n",
       "      <th>Cause</th>\n",
       "      <th>Department</th>\n",
       "      <th>State</th>\n",
       "      <th>Tour</th>\n",
       "      <th>Badge</th>\n",
       "      <th>Weapon</th>\n",
       "      <th>Offender</th>\n",
       "      <th>Summary</th>\n",
       "      <th>Binary age</th>\n",
       "      <th>corrected_age</th>\n",
       "      <th>Age Range</th>\n",
       "    </tr>\n",
       "  </thead>\n",
       "  <tbody>\n",
       "    <tr>\n",
       "      <th>0</th>\n",
       "      <td>Constable</td>\n",
       "      <td>Darius Quimby</td>\n",
       "      <td>NaN</td>\n",
       "      <td>1791-01-03</td>\n",
       "      <td>Monday</td>\n",
       "      <td>Stabbed</td>\n",
       "      <td>Albany County Constable's Office, New York</td>\n",
       "      <td>New York</td>\n",
       "      <td>NaN</td>\n",
       "      <td>NaN</td>\n",
       "      <td>Edged weapon; Knife</td>\n",
       "      <td>Executed in 1791</td>\n",
       "      <td>Constable Darius Quimby was stabbed to death w...</td>\n",
       "      <td>0</td>\n",
       "      <td>NaN</td>\n",
       "      <td>Between 25 and 55</td>\n",
       "    </tr>\n",
       "    <tr>\n",
       "      <th>1</th>\n",
       "      <td>Sheriff</td>\n",
       "      <td>Cornelius Hogeboom</td>\n",
       "      <td>53.0</td>\n",
       "      <td>1791-10-22</td>\n",
       "      <td>Saturday</td>\n",
       "      <td>Gunfire</td>\n",
       "      <td>Columbia County Sheriff's Office, New York</td>\n",
       "      <td>New York</td>\n",
       "      <td>2 years</td>\n",
       "      <td>NaN</td>\n",
       "      <td>Gun; Unknown type</td>\n",
       "      <td>Acquitted</td>\n",
       "      <td>Sheriff Cornelius Hogeboom was shot and killed...</td>\n",
       "      <td>1</td>\n",
       "      <td>51.0</td>\n",
       "      <td>Between 25 and 55</td>\n",
       "    </tr>\n",
       "    <tr>\n",
       "      <th>2</th>\n",
       "      <td>Deputy Sheriff</td>\n",
       "      <td>Isaac Smith</td>\n",
       "      <td>NaN</td>\n",
       "      <td>1792-05-17</td>\n",
       "      <td>Thursday</td>\n",
       "      <td>Gunfire</td>\n",
       "      <td>Westchester County Sheriff's Department, New York</td>\n",
       "      <td>New York</td>\n",
       "      <td>NaN</td>\n",
       "      <td>NaN</td>\n",
       "      <td>Handgun</td>\n",
       "      <td>Executed in 1793</td>\n",
       "      <td>Deputy Sheriff Isaac Smith was shot and killed...</td>\n",
       "      <td>0</td>\n",
       "      <td>NaN</td>\n",
       "      <td>Between 25 and 55</td>\n",
       "    </tr>\n",
       "    <tr>\n",
       "      <th>3</th>\n",
       "      <td>Marshal</td>\n",
       "      <td>Robert Forsyth</td>\n",
       "      <td>40.0</td>\n",
       "      <td>1794-01-11</td>\n",
       "      <td>Saturday</td>\n",
       "      <td>Gunfire</td>\n",
       "      <td>United States Department of Justice - United S...</td>\n",
       "      <td>United States</td>\n",
       "      <td>4 years, 4 months</td>\n",
       "      <td>4</td>\n",
       "      <td>Handgun; Pistol</td>\n",
       "      <td>Escaped</td>\n",
       "      <td>Marshal Robert Forsyth, believed to be one of ...</td>\n",
       "      <td>0</td>\n",
       "      <td>38.0</td>\n",
       "      <td>Between 25 and 55</td>\n",
       "    </tr>\n",
       "    <tr>\n",
       "      <th>4</th>\n",
       "      <td>Deputy Sheriff</td>\n",
       "      <td>Robert Berwick</td>\n",
       "      <td>NaN</td>\n",
       "      <td>1797-06-29</td>\n",
       "      <td>Thursday</td>\n",
       "      <td>Gunfire</td>\n",
       "      <td>New York County Sheriff's Office, New York</td>\n",
       "      <td>New York</td>\n",
       "      <td>NaN</td>\n",
       "      <td>NaN</td>\n",
       "      <td>Handgun</td>\n",
       "      <td>Executed in 1797</td>\n",
       "      <td>Deputy Sheriff Robert Berwick was shot and kil...</td>\n",
       "      <td>0</td>\n",
       "      <td>NaN</td>\n",
       "      <td>Between 25 and 55</td>\n",
       "    </tr>\n",
       "  </tbody>\n",
       "</table>\n",
       "</div>"
      ],
      "text/plain": [
       "             Rank                Name   Age End_Of_Watch Day_Of_Week    Cause  \\\n",
       "0       Constable       Darius Quimby   NaN   1791-01-03      Monday  Stabbed   \n",
       "1         Sheriff  Cornelius Hogeboom  53.0   1791-10-22    Saturday  Gunfire   \n",
       "2  Deputy Sheriff         Isaac Smith   NaN   1792-05-17    Thursday  Gunfire   \n",
       "3         Marshal      Robert Forsyth  40.0   1794-01-11    Saturday  Gunfire   \n",
       "4  Deputy Sheriff      Robert Berwick   NaN   1797-06-29    Thursday  Gunfire   \n",
       "\n",
       "                                          Department          State  \\\n",
       "0         Albany County Constable's Office, New York       New York   \n",
       "1         Columbia County Sheriff's Office, New York       New York   \n",
       "2  Westchester County Sheriff's Department, New York       New York   \n",
       "3  United States Department of Justice - United S...  United States   \n",
       "4         New York County Sheriff's Office, New York       New York   \n",
       "\n",
       "                Tour Badge               Weapon          Offender  \\\n",
       "0                NaN   NaN  Edged weapon; Knife  Executed in 1791   \n",
       "1            2 years   NaN    Gun; Unknown type         Acquitted   \n",
       "2                NaN   NaN              Handgun  Executed in 1793   \n",
       "3  4 years, 4 months     4      Handgun; Pistol           Escaped   \n",
       "4                NaN   NaN              Handgun  Executed in 1797   \n",
       "\n",
       "                                             Summary  Binary age  \\\n",
       "0  Constable Darius Quimby was stabbed to death w...           0   \n",
       "1  Sheriff Cornelius Hogeboom was shot and killed...           1   \n",
       "2  Deputy Sheriff Isaac Smith was shot and killed...           0   \n",
       "3  Marshal Robert Forsyth, believed to be one of ...           0   \n",
       "4  Deputy Sheriff Robert Berwick was shot and kil...           0   \n",
       "\n",
       "   corrected_age          Age Range  \n",
       "0            NaN  Between 25 and 55  \n",
       "1           51.0  Between 25 and 55  \n",
       "2            NaN  Between 25 and 55  \n",
       "3           38.0  Between 25 and 55  \n",
       "4            NaN  Between 25 and 55  "
      ]
     },
     "execution_count": 46,
     "metadata": {},
     "output_type": "execute_result"
    }
   ],
   "source": [
    "df.head()"
   ]
  },
  {
   "cell_type": "markdown",
   "id": "9f1a9674",
   "metadata": {},
   "source": []
  },
  {
   "cell_type": "code",
   "execution_count": null,
   "id": "438e9831",
   "metadata": {},
   "outputs": [],
   "source": []
  },
  {
   "cell_type": "markdown",
   "id": "cacb4d0b",
   "metadata": {},
   "source": [
    "# LAMBDA"
   ]
  },
  {
   "cell_type": "code",
   "execution_count": 60,
   "id": "02e3eecd",
   "metadata": {},
   "outputs": [],
   "source": [
    "df = df.assign(Corrected_age_2 = lambda x: x['Age'] -2)"
   ]
  },
  {
   "cell_type": "code",
   "execution_count": 61,
   "id": "fddb4fa4",
   "metadata": {},
   "outputs": [
    {
     "data": {
      "text/plain": [
       "Index(['Rank', 'Name', 'Age', 'End_Of_Watch', 'Day_Of_Week', 'Cause',\n",
       "       'Department', 'State', 'Tour', 'Badge', 'Weapon', 'Offender', 'Summary',\n",
       "       'Binary age', 'corrected_age', 'Age Range', 'Corrected_age_2'],\n",
       "      dtype='object')"
      ]
     },
     "execution_count": 61,
     "metadata": {},
     "output_type": "execute_result"
    }
   ],
   "source": [
    "df.columns"
   ]
  },
  {
   "cell_type": "code",
   "execution_count": 62,
   "id": "e8315478",
   "metadata": {},
   "outputs": [
    {
     "data": {
      "text/plain": [
       "0         NaN\n",
       "1        51.0\n",
       "2         NaN\n",
       "3        38.0\n",
       "4         NaN\n",
       "         ... \n",
       "25618    50.0\n",
       "25619    46.0\n",
       "25620    31.0\n",
       "25621    36.0\n",
       "25622    30.0\n",
       "Name: Corrected_age_2, Length: 25623, dtype: float64"
      ]
     },
     "execution_count": 62,
     "metadata": {},
     "output_type": "execute_result"
    }
   ],
   "source": [
    "df['Corrected_age_2'] # lo utilizamos para llamar a la nueva columna \"Corrected_age_2\""
   ]
  },
  {
   "cell_type": "markdown",
   "id": "47ab35a0",
   "metadata": {},
   "source": [
    "# EXERCISE"
   ]
  },
  {
   "cell_type": "code",
   "execution_count": null,
   "id": "904aee77",
   "metadata": {},
   "outputs": [],
   "source": [
    "#Construir una nueva columna life_precentage en donde la edad se exprese [Age]/80*100"
   ]
  },
  {
   "cell_type": "code",
   "execution_count": 63,
   "id": "a6b43c5e",
   "metadata": {},
   "outputs": [],
   "source": [
    "df = df.assign(life_percentage = lambda x: x['Age'] *1.25) #80/100 es equivalente a 1.25"
   ]
  },
  {
   "cell_type": "code",
   "execution_count": 64,
   "id": "445ef45f",
   "metadata": {},
   "outputs": [
    {
     "data": {
      "text/plain": [
       "0          NaN\n",
       "1        66.25\n",
       "2          NaN\n",
       "3        50.00\n",
       "4          NaN\n",
       "         ...  \n",
       "25618    65.00\n",
       "25619    60.00\n",
       "25620    41.25\n",
       "25621    47.50\n",
       "25622    40.00\n",
       "Name: life_percentage, Length: 25623, dtype: float64"
      ]
     },
     "execution_count": 64,
     "metadata": {},
     "output_type": "execute_result"
    }
   ],
   "source": [
    "df['life_percentage']"
   ]
  },
  {
   "cell_type": "markdown",
   "id": "efa219b6",
   "metadata": {},
   "source": [
    "# GROUPBY + APPLY + LAMBDA FUNCTION"
   ]
  },
  {
   "cell_type": "code",
   "execution_count": 49,
   "id": "f4628d81",
   "metadata": {},
   "outputs": [
    {
     "data": {
      "text/html": [
       "<div>\n",
       "<style scoped>\n",
       "    .dataframe tbody tr th:only-of-type {\n",
       "        vertical-align: middle;\n",
       "    }\n",
       "\n",
       "    .dataframe tbody tr th {\n",
       "        vertical-align: top;\n",
       "    }\n",
       "\n",
       "    .dataframe thead th {\n",
       "        text-align: right;\n",
       "    }\n",
       "</style>\n",
       "<table border=\"1\" class=\"dataframe\">\n",
       "  <thead>\n",
       "    <tr style=\"text-align: right;\">\n",
       "      <th>Age Range</th>\n",
       "      <th>Between 25 and 55</th>\n",
       "      <th>Older than 55</th>\n",
       "      <th>Younger than 25</th>\n",
       "    </tr>\n",
       "    <tr>\n",
       "      <th>Day_Of_Week</th>\n",
       "      <th></th>\n",
       "      <th></th>\n",
       "      <th></th>\n",
       "    </tr>\n",
       "  </thead>\n",
       "  <tbody>\n",
       "    <tr>\n",
       "      <th>Friday</th>\n",
       "      <td>3193</td>\n",
       "      <td>366</td>\n",
       "      <td>181</td>\n",
       "    </tr>\n",
       "    <tr>\n",
       "      <th>Monday</th>\n",
       "      <td>2943</td>\n",
       "      <td>379</td>\n",
       "      <td>193</td>\n",
       "    </tr>\n",
       "    <tr>\n",
       "      <th>Saturday</th>\n",
       "      <td>3413</td>\n",
       "      <td>385</td>\n",
       "      <td>204</td>\n",
       "    </tr>\n",
       "    <tr>\n",
       "      <th>Sunday</th>\n",
       "      <td>3170</td>\n",
       "      <td>379</td>\n",
       "      <td>216</td>\n",
       "    </tr>\n",
       "    <tr>\n",
       "      <th>Thursday</th>\n",
       "      <td>3053</td>\n",
       "      <td>389</td>\n",
       "      <td>178</td>\n",
       "    </tr>\n",
       "    <tr>\n",
       "      <th>Tuesday</th>\n",
       "      <td>2946</td>\n",
       "      <td>396</td>\n",
       "      <td>175</td>\n",
       "    </tr>\n",
       "    <tr>\n",
       "      <th>Wednesday</th>\n",
       "      <td>2914</td>\n",
       "      <td>366</td>\n",
       "      <td>184</td>\n",
       "    </tr>\n",
       "  </tbody>\n",
       "</table>\n",
       "</div>"
      ],
      "text/plain": [
       "Age Range    Between 25 and 55  Older than 55  Younger than 25\n",
       "Day_Of_Week                                                   \n",
       "Friday                    3193            366              181\n",
       "Monday                    2943            379              193\n",
       "Saturday                  3413            385              204\n",
       "Sunday                    3170            379              216\n",
       "Thursday                  3053            389              178\n",
       "Tuesday                   2946            396              175\n",
       "Wednesday                 2914            366              184"
      ]
     },
     "execution_count": 49,
     "metadata": {},
     "output_type": "execute_result"
    }
   ],
   "source": [
    "df.groupby('Day_Of_Week').apply(lambda x: x['Age Range'].value_counts())"
   ]
  },
  {
   "cell_type": "markdown",
   "id": "f7a6ce5d",
   "metadata": {},
   "source": [
    "# EXERCISE "
   ]
  },
  {
   "cell_type": "code",
   "execution_count": 56,
   "id": "36b6d27d",
   "metadata": {},
   "outputs": [
    {
     "data": {
      "text/plain": [
       "Day_Of_Week  Age Range        \n",
       "Friday       Between 25 and 55    224\n",
       "             Older than 55         88\n",
       "             Younger than 25       45\n",
       "Monday       Between 25 and 55    203\n",
       "             Older than 55         94\n",
       "             Younger than 25       46\n",
       "Saturday     Between 25 and 55    218\n",
       "             Older than 55         82\n",
       "             Younger than 25       54\n",
       "Sunday       Between 25 and 55    200\n",
       "             Older than 55         94\n",
       "             Younger than 25       45\n",
       "Thursday     Between 25 and 55    217\n",
       "             Older than 55         83\n",
       "             Younger than 25       41\n",
       "Tuesday      Between 25 and 55    219\n",
       "             Older than 55         89\n",
       "             Younger than 25       34\n",
       "Wednesday    Between 25 and 55    206\n",
       "             Older than 55         88\n",
       "             Younger than 25       42\n",
       "dtype: int64"
      ]
     },
     "execution_count": 56,
     "metadata": {},
     "output_type": "execute_result"
    }
   ],
   "source": [
    "df.groupby(['Day_Of_Week', 'Age Range']).apply(lambda x: x['Rank'].nunique())"
   ]
  },
  {
   "cell_type": "markdown",
   "id": "db830f1d",
   "metadata": {},
   "source": [
    "# CONCAT AND MERGE"
   ]
  },
  {
   "cell_type": "code",
   "execution_count": null,
   "id": "2c72fbfa",
   "metadata": {},
   "outputs": [],
   "source": [
    "EXERCISE"
   ]
  },
  {
   "cell_type": "code",
   "execution_count": null,
   "id": "0b9f1e07",
   "metadata": {},
   "outputs": [],
   "source": [
    "#Voy a crear un nuevo data set"
   ]
  },
  {
   "cell_type": "code",
   "execution_count": 120,
   "id": "713cf06a",
   "metadata": {},
   "outputs": [],
   "source": [
    "new_df1 = df[['Rank', 'Name', 'Age', 'State']]"
   ]
  },
  {
   "cell_type": "code",
   "execution_count": 121,
   "id": "69d0ae0e",
   "metadata": {},
   "outputs": [
    {
     "data": {
      "text/html": [
       "<div>\n",
       "<style scoped>\n",
       "    .dataframe tbody tr th:only-of-type {\n",
       "        vertical-align: middle;\n",
       "    }\n",
       "\n",
       "    .dataframe tbody tr th {\n",
       "        vertical-align: top;\n",
       "    }\n",
       "\n",
       "    .dataframe thead th {\n",
       "        text-align: right;\n",
       "    }\n",
       "</style>\n",
       "<table border=\"1\" class=\"dataframe\">\n",
       "  <thead>\n",
       "    <tr style=\"text-align: right;\">\n",
       "      <th></th>\n",
       "      <th>Rank</th>\n",
       "      <th>Name</th>\n",
       "      <th>Age</th>\n",
       "      <th>State</th>\n",
       "    </tr>\n",
       "  </thead>\n",
       "  <tbody>\n",
       "    <tr>\n",
       "      <th>0</th>\n",
       "      <td>Constable</td>\n",
       "      <td>Darius Quimby</td>\n",
       "      <td>NaN</td>\n",
       "      <td>New York</td>\n",
       "    </tr>\n",
       "    <tr>\n",
       "      <th>1</th>\n",
       "      <td>Sheriff</td>\n",
       "      <td>Cornelius Hogeboom</td>\n",
       "      <td>53.0</td>\n",
       "      <td>New York</td>\n",
       "    </tr>\n",
       "    <tr>\n",
       "      <th>2</th>\n",
       "      <td>Deputy Sheriff</td>\n",
       "      <td>Isaac Smith</td>\n",
       "      <td>NaN</td>\n",
       "      <td>New York</td>\n",
       "    </tr>\n",
       "    <tr>\n",
       "      <th>3</th>\n",
       "      <td>Marshal</td>\n",
       "      <td>Robert Forsyth</td>\n",
       "      <td>40.0</td>\n",
       "      <td>United States</td>\n",
       "    </tr>\n",
       "    <tr>\n",
       "      <th>4</th>\n",
       "      <td>Deputy Sheriff</td>\n",
       "      <td>Robert Berwick</td>\n",
       "      <td>NaN</td>\n",
       "      <td>New York</td>\n",
       "    </tr>\n",
       "    <tr>\n",
       "      <th>5</th>\n",
       "      <td>Sheriff</td>\n",
       "      <td>Robert Maxwell</td>\n",
       "      <td>45.0</td>\n",
       "      <td>South Carolina</td>\n",
       "    </tr>\n",
       "  </tbody>\n",
       "</table>\n",
       "</div>"
      ],
      "text/plain": [
       "             Rank                Name   Age           State\n",
       "0       Constable       Darius Quimby   NaN        New York\n",
       "1         Sheriff  Cornelius Hogeboom  53.0        New York\n",
       "2  Deputy Sheriff         Isaac Smith   NaN        New York\n",
       "3         Marshal      Robert Forsyth  40.0   United States\n",
       "4  Deputy Sheriff      Robert Berwick   NaN        New York\n",
       "5         Sheriff      Robert Maxwell  45.0  South Carolina"
      ]
     },
     "execution_count": 121,
     "metadata": {},
     "output_type": "execute_result"
    }
   ],
   "source": [
    "new_df1.head(6)"
   ]
  },
  {
   "cell_type": "code",
   "execution_count": 122,
   "id": "008a4891",
   "metadata": {},
   "outputs": [],
   "source": [
    "new_df2 = df[['Rank', 'Name', 'Age', 'State']] #VOY A CREER OTRO DATA SET"
   ]
  },
  {
   "cell_type": "code",
   "execution_count": 123,
   "id": "1c634497",
   "metadata": {},
   "outputs": [],
   "source": [
    "new_df2 = new_df2.iloc[7:12]"
   ]
  },
  {
   "cell_type": "code",
   "execution_count": 124,
   "id": "48325e3e",
   "metadata": {
    "scrolled": true
   },
   "outputs": [
    {
     "data": {
      "text/html": [
       "<div>\n",
       "<style scoped>\n",
       "    .dataframe tbody tr th:only-of-type {\n",
       "        vertical-align: middle;\n",
       "    }\n",
       "\n",
       "    .dataframe tbody tr th {\n",
       "        vertical-align: top;\n",
       "    }\n",
       "\n",
       "    .dataframe thead th {\n",
       "        text-align: right;\n",
       "    }\n",
       "</style>\n",
       "<table border=\"1\" class=\"dataframe\">\n",
       "  <thead>\n",
       "    <tr style=\"text-align: right;\">\n",
       "      <th></th>\n",
       "      <th>Rank</th>\n",
       "      <th>Name</th>\n",
       "      <th>Age</th>\n",
       "      <th>State</th>\n",
       "    </tr>\n",
       "  </thead>\n",
       "  <tbody>\n",
       "    <tr>\n",
       "      <th>7</th>\n",
       "      <td>High Sheriff</td>\n",
       "      <td>John Caldwell Cook</td>\n",
       "      <td>74.0</td>\n",
       "      <td>North Carolina</td>\n",
       "    </tr>\n",
       "    <tr>\n",
       "      <th>8</th>\n",
       "      <td>Watchman</td>\n",
       "      <td>Christian Luswanger</td>\n",
       "      <td>NaN</td>\n",
       "      <td>New York</td>\n",
       "    </tr>\n",
       "    <tr>\n",
       "      <th>9</th>\n",
       "      <td>Deputy Sheriff</td>\n",
       "      <td>John A. Gooch</td>\n",
       "      <td>NaN</td>\n",
       "      <td>Kentucky</td>\n",
       "    </tr>\n",
       "    <tr>\n",
       "      <th>10</th>\n",
       "      <td>Boatman</td>\n",
       "      <td>Ellis Drake</td>\n",
       "      <td>20.0</td>\n",
       "      <td>United States</td>\n",
       "    </tr>\n",
       "    <tr>\n",
       "      <th>11</th>\n",
       "      <td>Night Watchman</td>\n",
       "      <td>George Workner</td>\n",
       "      <td>NaN</td>\n",
       "      <td>Maryland</td>\n",
       "    </tr>\n",
       "  </tbody>\n",
       "</table>\n",
       "</div>"
      ],
      "text/plain": [
       "              Rank                 Name   Age           State\n",
       "7     High Sheriff   John Caldwell Cook  74.0  North Carolina\n",
       "8         Watchman  Christian Luswanger   NaN        New York\n",
       "9   Deputy Sheriff        John A. Gooch   NaN        Kentucky\n",
       "10         Boatman          Ellis Drake  20.0   United States\n",
       "11  Night Watchman       George Workner   NaN        Maryland"
      ]
     },
     "execution_count": 124,
     "metadata": {},
     "output_type": "execute_result"
    }
   ],
   "source": [
    "new_df2"
   ]
  },
  {
   "cell_type": "code",
   "execution_count": null,
   "id": "d6ddf2e9",
   "metadata": {},
   "outputs": [],
   "source": [
    "#AHORA PROCEDERÉ A CONCATENAR"
   ]
  },
  {
   "cell_type": "code",
   "execution_count": 125,
   "id": "8d507232",
   "metadata": {},
   "outputs": [
    {
     "data": {
      "text/html": [
       "<div>\n",
       "<style scoped>\n",
       "    .dataframe tbody tr th:only-of-type {\n",
       "        vertical-align: middle;\n",
       "    }\n",
       "\n",
       "    .dataframe tbody tr th {\n",
       "        vertical-align: top;\n",
       "    }\n",
       "\n",
       "    .dataframe thead th {\n",
       "        text-align: right;\n",
       "    }\n",
       "</style>\n",
       "<table border=\"1\" class=\"dataframe\">\n",
       "  <thead>\n",
       "    <tr style=\"text-align: right;\">\n",
       "      <th></th>\n",
       "      <th>Rank</th>\n",
       "      <th>Name</th>\n",
       "      <th>Age</th>\n",
       "      <th>State</th>\n",
       "    </tr>\n",
       "  </thead>\n",
       "  <tbody>\n",
       "    <tr>\n",
       "      <th>0</th>\n",
       "      <td>Constable</td>\n",
       "      <td>Darius Quimby</td>\n",
       "      <td>NaN</td>\n",
       "      <td>New York</td>\n",
       "    </tr>\n",
       "    <tr>\n",
       "      <th>1</th>\n",
       "      <td>Sheriff</td>\n",
       "      <td>Cornelius Hogeboom</td>\n",
       "      <td>53.0</td>\n",
       "      <td>New York</td>\n",
       "    </tr>\n",
       "    <tr>\n",
       "      <th>2</th>\n",
       "      <td>Deputy Sheriff</td>\n",
       "      <td>Isaac Smith</td>\n",
       "      <td>NaN</td>\n",
       "      <td>New York</td>\n",
       "    </tr>\n",
       "    <tr>\n",
       "      <th>3</th>\n",
       "      <td>Marshal</td>\n",
       "      <td>Robert Forsyth</td>\n",
       "      <td>40.0</td>\n",
       "      <td>United States</td>\n",
       "    </tr>\n",
       "    <tr>\n",
       "      <th>4</th>\n",
       "      <td>Deputy Sheriff</td>\n",
       "      <td>Robert Berwick</td>\n",
       "      <td>NaN</td>\n",
       "      <td>New York</td>\n",
       "    </tr>\n",
       "    <tr>\n",
       "      <th>...</th>\n",
       "      <td>...</td>\n",
       "      <td>...</td>\n",
       "      <td>...</td>\n",
       "      <td>...</td>\n",
       "    </tr>\n",
       "    <tr>\n",
       "      <th>7</th>\n",
       "      <td>High Sheriff</td>\n",
       "      <td>John Caldwell Cook</td>\n",
       "      <td>74.0</td>\n",
       "      <td>North Carolina</td>\n",
       "    </tr>\n",
       "    <tr>\n",
       "      <th>8</th>\n",
       "      <td>Watchman</td>\n",
       "      <td>Christian Luswanger</td>\n",
       "      <td>NaN</td>\n",
       "      <td>New York</td>\n",
       "    </tr>\n",
       "    <tr>\n",
       "      <th>9</th>\n",
       "      <td>Deputy Sheriff</td>\n",
       "      <td>John A. Gooch</td>\n",
       "      <td>NaN</td>\n",
       "      <td>Kentucky</td>\n",
       "    </tr>\n",
       "    <tr>\n",
       "      <th>10</th>\n",
       "      <td>Boatman</td>\n",
       "      <td>Ellis Drake</td>\n",
       "      <td>20.0</td>\n",
       "      <td>United States</td>\n",
       "    </tr>\n",
       "    <tr>\n",
       "      <th>11</th>\n",
       "      <td>Night Watchman</td>\n",
       "      <td>George Workner</td>\n",
       "      <td>NaN</td>\n",
       "      <td>Maryland</td>\n",
       "    </tr>\n",
       "  </tbody>\n",
       "</table>\n",
       "<p>25628 rows × 4 columns</p>\n",
       "</div>"
      ],
      "text/plain": [
       "              Rank                 Name   Age           State\n",
       "0        Constable        Darius Quimby   NaN        New York\n",
       "1          Sheriff   Cornelius Hogeboom  53.0        New York\n",
       "2   Deputy Sheriff          Isaac Smith   NaN        New York\n",
       "3          Marshal       Robert Forsyth  40.0   United States\n",
       "4   Deputy Sheriff       Robert Berwick   NaN        New York\n",
       "..             ...                  ...   ...             ...\n",
       "7     High Sheriff   John Caldwell Cook  74.0  North Carolina\n",
       "8         Watchman  Christian Luswanger   NaN        New York\n",
       "9   Deputy Sheriff        John A. Gooch   NaN        Kentucky\n",
       "10         Boatman          Ellis Drake  20.0   United States\n",
       "11  Night Watchman       George Workner   NaN        Maryland\n",
       "\n",
       "[25628 rows x 4 columns]"
      ]
     },
     "execution_count": 125,
     "metadata": {},
     "output_type": "execute_result"
    }
   ],
   "source": [
    "pd.concat([new_df1, new_df2])"
   ]
  },
  {
   "cell_type": "code",
   "execution_count": 129,
   "id": "f7fc8769",
   "metadata": {},
   "outputs": [],
   "source": [
    "df.to_csv('output.csv', index=None, sep=',')"
   ]
  },
  {
   "cell_type": "code",
   "execution_count": null,
   "id": "2fd02250",
   "metadata": {},
   "outputs": [],
   "source": []
  }
 ],
 "metadata": {
  "kernelspec": {
   "display_name": "Python 3 (ipykernel)",
   "language": "python",
   "name": "python3"
  },
  "language_info": {
   "codemirror_mode": {
    "name": "ipython",
    "version": 3
   },
   "file_extension": ".py",
   "mimetype": "text/x-python",
   "name": "python",
   "nbconvert_exporter": "python",
   "pygments_lexer": "ipython3",
   "version": "3.10.9"
  }
 },
 "nbformat": 4,
 "nbformat_minor": 5
}
